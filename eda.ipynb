{
 "cells": [
  {
   "cell_type": "markdown",
   "id": "98b8b270",
   "metadata": {},
   "source": [
    "# Exploratory Data Analysis"
   ]
  },
  {
   "cell_type": "markdown",
   "id": "f00bcd2e",
   "metadata": {},
   "source": [
    "## Setting up the environment"
   ]
  },
  {
   "cell_type": "code",
   "execution_count": 10,
   "id": "f6cb046e",
   "metadata": {},
   "outputs": [],
   "source": [
    "import pandas as pd\n",
    "import os\n",
    "from pathlib import Path\n",
    "import io\n",
    "\n",
    "# Cell to import plotly\n",
    "import plotly.graph_objects as go\n",
    "import plotly.express as px\n",
    "import numpy as np"
   ]
  },
  {
   "cell_type": "markdown",
   "id": "9dc3b8a6",
   "metadata": {},
   "source": [
    "## Loading CSV files "
   ]
  },
  {
   "cell_type": "code",
   "execution_count": 11,
   "id": "bc9d6a5b",
   "metadata": {},
   "outputs": [],
   "source": [
    "def load_all_csv_files(data_dir='data', show_rows=5):\n",
    "    \n",
    "    # check if the directory exists\n",
    "    if not os.path.exists(data_dir):\n",
    "        print(f\"Directory '{data_dir}' not found!\")\n",
    "        return {}, {}\n",
    "    \n",
    "    # store dataframes, file mappings and get csv files \n",
    "    dataframes = {}\n",
    "    file_mappings = {}\n",
    "    csv_files = list(Path(data_dir).glob('*.csv'))\n",
    "    csv_files.sort() \n",
    "    \n",
    "    print(f\"Found {len(csv_files)} CSV files in '{data_dir}' directory.\\n\")\n",
    "    \n",
    "    # load each CSV file into a dataframe\n",
    "    for i, file_path in enumerate(csv_files, 1):\n",
    "        df_name = f\"df{i}\"\n",
    "        file_mappings[df_name] = str(file_path)\n",
    "        \n",
    "        print(f\"Loaded {file_path} as {df_name}\")\n",
    "        \n",
    "        df = pd.read_csv(file_path)\n",
    "        dataframes[df_name] = df\n",
    "\n",
    "        print(f\"File: {file_path}\")\n",
    "        print(f\"Shape: {df.shape[0]} rows × {df.shape[1]} columns\")\n",
    "        print(f\"\\nFirst {show_rows} rows of {df_name}:\")\n",
    "        display(df.head(show_rows))\n",
    "        print(\"-\" * 80 + \"\\n\")\n",
    "    \n",
    "    return dataframes, file_mappings"
   ]
  },
  {
   "cell_type": "code",
   "execution_count": 12,
   "id": "afa66a0b",
   "metadata": {},
   "outputs": [
    {
     "name": "stdout",
     "output_type": "stream",
     "text": [
      "Found 12 CSV files in 'data' directory.\n",
      "\n",
      "Loaded data/dim__hubspot_sales_pipeline_stages.csv as df1\n",
      "File: data/dim__hubspot_sales_pipeline_stages.csv\n",
      "Shape: 6 rows × 6 columns\n",
      "\n",
      "First 5 rows of df1:\n"
     ]
    },
    {
     "data": {
      "text/html": [
       "<div>\n",
       "<style scoped>\n",
       "    .dataframe tbody tr th:only-of-type {\n",
       "        vertical-align: middle;\n",
       "    }\n",
       "\n",
       "    .dataframe tbody tr th {\n",
       "        vertical-align: top;\n",
       "    }\n",
       "\n",
       "    .dataframe thead th {\n",
       "        text-align: right;\n",
       "    }\n",
       "</style>\n",
       "<table border=\"1\" class=\"dataframe\">\n",
       "  <thead>\n",
       "    <tr style=\"text-align: right;\">\n",
       "      <th></th>\n",
       "      <th>pipeline_stage_id</th>\n",
       "      <th>pipeline_stage_order</th>\n",
       "      <th>pipeline_stage</th>\n",
       "      <th>close_probability</th>\n",
       "      <th>stage_is_archived</th>\n",
       "      <th>deal_is_closed</th>\n",
       "    </tr>\n",
       "  </thead>\n",
       "  <tbody>\n",
       "    <tr>\n",
       "      <th>0</th>\n",
       "      <td>1102499</td>\n",
       "      <td>1</td>\n",
       "      <td>Qualification</td>\n",
       "      <td>0.2</td>\n",
       "      <td>False</td>\n",
       "      <td>False</td>\n",
       "    </tr>\n",
       "    <tr>\n",
       "      <th>1</th>\n",
       "      <td>12008384</td>\n",
       "      <td>0</td>\n",
       "      <td>Lead</td>\n",
       "      <td>0.1</td>\n",
       "      <td>False</td>\n",
       "      <td>False</td>\n",
       "    </tr>\n",
       "    <tr>\n",
       "      <th>2</th>\n",
       "      <td>qualifiedtobuy</td>\n",
       "      <td>3</td>\n",
       "      <td>Proposal</td>\n",
       "      <td>0.6</td>\n",
       "      <td>False</td>\n",
       "      <td>False</td>\n",
       "    </tr>\n",
       "    <tr>\n",
       "      <th>3</th>\n",
       "      <td>appointmentscheduled</td>\n",
       "      <td>2</td>\n",
       "      <td>Exploration</td>\n",
       "      <td>0.4</td>\n",
       "      <td>False</td>\n",
       "      <td>False</td>\n",
       "    </tr>\n",
       "    <tr>\n",
       "      <th>4</th>\n",
       "      <td>closedlost</td>\n",
       "      <td>5</td>\n",
       "      <td>Closed Lost</td>\n",
       "      <td>0.0</td>\n",
       "      <td>False</td>\n",
       "      <td>True</td>\n",
       "    </tr>\n",
       "  </tbody>\n",
       "</table>\n",
       "</div>"
      ],
      "text/plain": [
       "      pipeline_stage_id  pipeline_stage_order pipeline_stage  \\\n",
       "0               1102499                     1  Qualification   \n",
       "1              12008384                     0           Lead   \n",
       "2        qualifiedtobuy                     3       Proposal   \n",
       "3  appointmentscheduled                     2    Exploration   \n",
       "4            closedlost                     5    Closed Lost   \n",
       "\n",
       "   close_probability  stage_is_archived  deal_is_closed  \n",
       "0                0.2              False           False  \n",
       "1                0.1              False           False  \n",
       "2                0.6              False           False  \n",
       "3                0.4              False           False  \n",
       "4                0.0              False            True  "
      ]
     },
     "metadata": {},
     "output_type": "display_data"
    },
    {
     "name": "stdout",
     "output_type": "stream",
     "text": [
      "--------------------------------------------------------------------------------\n",
      "\n",
      "Loaded data/dim__notion_clients__anonymized.csv as df2\n",
      "File: data/dim__notion_clients__anonymized.csv\n",
      "Shape: 48 rows × 10 columns\n",
      "\n",
      "First 5 rows of df2:\n"
     ]
    },
    {
     "data": {
      "text/html": [
       "<div>\n",
       "<style scoped>\n",
       "    .dataframe tbody tr th:only-of-type {\n",
       "        vertical-align: middle;\n",
       "    }\n",
       "\n",
       "    .dataframe tbody tr th {\n",
       "        vertical-align: top;\n",
       "    }\n",
       "\n",
       "    .dataframe thead th {\n",
       "        text-align: right;\n",
       "    }\n",
       "</style>\n",
       "<table border=\"1\" class=\"dataframe\">\n",
       "  <thead>\n",
       "    <tr style=\"text-align: right;\">\n",
       "      <th></th>\n",
       "      <th>client_id</th>\n",
       "      <th>category</th>\n",
       "      <th>industry_id</th>\n",
       "      <th>company_size</th>\n",
       "      <th>company_type</th>\n",
       "      <th>n_roles</th>\n",
       "      <th>n_projects</th>\n",
       "      <th>n_people</th>\n",
       "      <th>started_at</th>\n",
       "      <th>name_anon</th>\n",
       "    </tr>\n",
       "  </thead>\n",
       "  <tbody>\n",
       "    <tr>\n",
       "      <th>0</th>\n",
       "      <td>2f0a5150-aeeb-49f7-b11b-5307511068ff</td>\n",
       "      <td>Internal</td>\n",
       "      <td>NaN</td>\n",
       "      <td>NaN</td>\n",
       "      <td>NaN</td>\n",
       "      <td>0</td>\n",
       "      <td>1</td>\n",
       "      <td>0</td>\n",
       "      <td>NaN</td>\n",
       "      <td>Smith, Fields and Bentley</td>\n",
       "    </tr>\n",
       "    <tr>\n",
       "      <th>1</th>\n",
       "      <td>2dc74fac-c75a-4770-855f-9943969f18e3</td>\n",
       "      <td>Internal</td>\n",
       "      <td>NaN</td>\n",
       "      <td>NaN</td>\n",
       "      <td>NaN</td>\n",
       "      <td>0</td>\n",
       "      <td>2</td>\n",
       "      <td>0</td>\n",
       "      <td>NaN</td>\n",
       "      <td>Ryan-Ward</td>\n",
       "    </tr>\n",
       "    <tr>\n",
       "      <th>2</th>\n",
       "      <td>3d619f69-ee9c-41f8-ac3a-ac5cc851cf10</td>\n",
       "      <td>Internal</td>\n",
       "      <td>NaN</td>\n",
       "      <td>NaN</td>\n",
       "      <td>NaN</td>\n",
       "      <td>0</td>\n",
       "      <td>3</td>\n",
       "      <td>0</td>\n",
       "      <td>NaN</td>\n",
       "      <td>Edwards-Jenkins</td>\n",
       "    </tr>\n",
       "    <tr>\n",
       "      <th>3</th>\n",
       "      <td>87163a01-08e8-487c-b200-6f04138c53bf</td>\n",
       "      <td>Internal</td>\n",
       "      <td>NaN</td>\n",
       "      <td>NaN</td>\n",
       "      <td>NaN</td>\n",
       "      <td>0</td>\n",
       "      <td>3</td>\n",
       "      <td>0</td>\n",
       "      <td>NaN</td>\n",
       "      <td>Avila LLC</td>\n",
       "    </tr>\n",
       "    <tr>\n",
       "      <th>4</th>\n",
       "      <td>0a1a94ab-d574-4c92-9b69-b21df5080288</td>\n",
       "      <td>Internal</td>\n",
       "      <td>NaN</td>\n",
       "      <td>NaN</td>\n",
       "      <td>NaN</td>\n",
       "      <td>0</td>\n",
       "      <td>3</td>\n",
       "      <td>0</td>\n",
       "      <td>NaN</td>\n",
       "      <td>Adams Group</td>\n",
       "    </tr>\n",
       "  </tbody>\n",
       "</table>\n",
       "</div>"
      ],
      "text/plain": [
       "                              client_id  category industry_id company_size  \\\n",
       "0  2f0a5150-aeeb-49f7-b11b-5307511068ff  Internal         NaN          NaN   \n",
       "1  2dc74fac-c75a-4770-855f-9943969f18e3  Internal         NaN          NaN   \n",
       "2  3d619f69-ee9c-41f8-ac3a-ac5cc851cf10  Internal         NaN          NaN   \n",
       "3  87163a01-08e8-487c-b200-6f04138c53bf  Internal         NaN          NaN   \n",
       "4  0a1a94ab-d574-4c92-9b69-b21df5080288  Internal         NaN          NaN   \n",
       "\n",
       "  company_type  n_roles  n_projects  n_people started_at  \\\n",
       "0          NaN        0           1         0        NaN   \n",
       "1          NaN        0           2         0        NaN   \n",
       "2          NaN        0           3         0        NaN   \n",
       "3          NaN        0           3         0        NaN   \n",
       "4          NaN        0           3         0        NaN   \n",
       "\n",
       "                   name_anon  \n",
       "0  Smith, Fields and Bentley  \n",
       "1                  Ryan-Ward  \n",
       "2            Edwards-Jenkins  \n",
       "3                  Avila LLC  \n",
       "4                Adams Group  "
      ]
     },
     "metadata": {},
     "output_type": "display_data"
    },
    {
     "name": "stdout",
     "output_type": "stream",
     "text": [
      "--------------------------------------------------------------------------------\n",
      "\n",
      "Loaded data/dim__notion_hr__anonymized.csv as df3\n",
      "File: data/dim__notion_hr__anonymized.csv\n",
      "Shape: 13 rows × 6 columns\n",
      "\n",
      "First 5 rows of df3:\n"
     ]
    },
    {
     "data": {
      "text/html": [
       "<div>\n",
       "<style scoped>\n",
       "    .dataframe tbody tr th:only-of-type {\n",
       "        vertical-align: middle;\n",
       "    }\n",
       "\n",
       "    .dataframe tbody tr th {\n",
       "        vertical-align: top;\n",
       "    }\n",
       "\n",
       "    .dataframe thead th {\n",
       "        text-align: right;\n",
       "    }\n",
       "</style>\n",
       "<table border=\"1\" class=\"dataframe\">\n",
       "  <thead>\n",
       "    <tr style=\"text-align: right;\">\n",
       "      <th></th>\n",
       "      <th>consultant_id</th>\n",
       "      <th>active</th>\n",
       "      <th>startdate</th>\n",
       "      <th>enddate</th>\n",
       "      <th>seniority</th>\n",
       "      <th>consultant_name_anon</th>\n",
       "    </tr>\n",
       "  </thead>\n",
       "  <tbody>\n",
       "    <tr>\n",
       "      <th>0</th>\n",
       "      <td>2a554628-d7f2-475f-8872-5a7057388c36</td>\n",
       "      <td>No</td>\n",
       "      <td>2024-08-19</td>\n",
       "      <td>NaN</td>\n",
       "      <td>K2</td>\n",
       "      <td>Bertil Grind</td>\n",
       "    </tr>\n",
       "    <tr>\n",
       "      <th>1</th>\n",
       "      <td>261b42da-30b3-801f-ade8-e0f9f5d087b6</td>\n",
       "      <td>Yes</td>\n",
       "      <td>2025-09-01</td>\n",
       "      <td>NaN</td>\n",
       "      <td>K2</td>\n",
       "      <td>Alexander Macedon</td>\n",
       "    </tr>\n",
       "    <tr>\n",
       "      <th>2</th>\n",
       "      <td>261b42da-30b3-8088-b413-f0676fb78aa4</td>\n",
       "      <td>NaN</td>\n",
       "      <td>2025-09-01</td>\n",
       "      <td>NaN</td>\n",
       "      <td>K1</td>\n",
       "      <td>Luke Rhinehart</td>\n",
       "    </tr>\n",
       "    <tr>\n",
       "      <th>3</th>\n",
       "      <td>086ef6c0-d4f2-45bb-bf64-2cb51ce8fec4</td>\n",
       "      <td>Yes</td>\n",
       "      <td>2023-09-04</td>\n",
       "      <td>NaN</td>\n",
       "      <td>K1</td>\n",
       "      <td>Rachel Lamb</td>\n",
       "    </tr>\n",
       "    <tr>\n",
       "      <th>4</th>\n",
       "      <td>afd559ec-90bf-40c9-8e96-57e3d7af66fd</td>\n",
       "      <td>Yes</td>\n",
       "      <td>2023-03-13</td>\n",
       "      <td>NaN</td>\n",
       "      <td>K2</td>\n",
       "      <td>Astarion Baldursson</td>\n",
       "    </tr>\n",
       "  </tbody>\n",
       "</table>\n",
       "</div>"
      ],
      "text/plain": [
       "                          consultant_id active   startdate  enddate seniority  \\\n",
       "0  2a554628-d7f2-475f-8872-5a7057388c36     No  2024-08-19      NaN        K2   \n",
       "1  261b42da-30b3-801f-ade8-e0f9f5d087b6    Yes  2025-09-01      NaN        K2   \n",
       "2  261b42da-30b3-8088-b413-f0676fb78aa4    NaN  2025-09-01      NaN        K1   \n",
       "3  086ef6c0-d4f2-45bb-bf64-2cb51ce8fec4    Yes  2023-09-04      NaN        K1   \n",
       "4  afd559ec-90bf-40c9-8e96-57e3d7af66fd    Yes  2023-03-13      NaN        K2   \n",
       "\n",
       "  consultant_name_anon  \n",
       "0         Bertil Grind  \n",
       "1    Alexander Macedon  \n",
       "2       Luke Rhinehart  \n",
       "3          Rachel Lamb  \n",
       "4  Astarion Baldursson  "
      ]
     },
     "metadata": {},
     "output_type": "display_data"
    },
    {
     "name": "stdout",
     "output_type": "stream",
     "text": [
      "--------------------------------------------------------------------------------\n",
      "\n",
      "Loaded data/dim__notion_roles__anonymized.csv as df4\n",
      "File: data/dim__notion_roles__anonymized.csv\n",
      "Shape: 101 rows × 8 columns\n",
      "\n",
      "First 5 rows of df4:\n"
     ]
    },
    {
     "data": {
      "text/html": [
       "<div>\n",
       "<style scoped>\n",
       "    .dataframe tbody tr th:only-of-type {\n",
       "        vertical-align: middle;\n",
       "    }\n",
       "\n",
       "    .dataframe tbody tr th {\n",
       "        vertical-align: top;\n",
       "    }\n",
       "\n",
       "    .dataframe thead th {\n",
       "        text-align: right;\n",
       "    }\n",
       "</style>\n",
       "<table border=\"1\" class=\"dataframe\">\n",
       "  <thead>\n",
       "    <tr style=\"text-align: right;\">\n",
       "      <th></th>\n",
       "      <th>role_id</th>\n",
       "      <th>industry_name</th>\n",
       "      <th>role_category_name</th>\n",
       "      <th>hourly_rate</th>\n",
       "      <th>billing_type</th>\n",
       "      <th>seniority</th>\n",
       "      <th>startdate</th>\n",
       "      <th>name_anon</th>\n",
       "    </tr>\n",
       "  </thead>\n",
       "  <tbody>\n",
       "    <tr>\n",
       "      <th>0</th>\n",
       "      <td>68fb318f-438b-4257-95f2-3893564ebd01</td>\n",
       "      <td>NaN</td>\n",
       "      <td>NaN</td>\n",
       "      <td>NaN</td>\n",
       "      <td>NaN</td>\n",
       "      <td>K2</td>\n",
       "      <td>2023-10-01</td>\n",
       "      <td>NaN</td>\n",
       "    </tr>\n",
       "    <tr>\n",
       "      <th>1</th>\n",
       "      <td>b5a1a16b-99d7-4895-b927-0d0afa074c35</td>\n",
       "      <td>NaN</td>\n",
       "      <td>NaN</td>\n",
       "      <td>NaN</td>\n",
       "      <td>NaN</td>\n",
       "      <td>NaN</td>\n",
       "      <td>NaN</td>\n",
       "      <td>NaN</td>\n",
       "    </tr>\n",
       "    <tr>\n",
       "      <th>2</th>\n",
       "      <td>264b42da-30b3-8026-b4e1-f6a7c2832cc2</td>\n",
       "      <td>NaN</td>\n",
       "      <td>Data Analyst</td>\n",
       "      <td>900.0</td>\n",
       "      <td>Direct</td>\n",
       "      <td>NaN</td>\n",
       "      <td>2025-09-04</td>\n",
       "      <td>Terry and Sons</td>\n",
       "    </tr>\n",
       "    <tr>\n",
       "      <th>3</th>\n",
       "      <td>0517e8f8-b88c-41fa-ae1a-57458f4571d0</td>\n",
       "      <td>NaN</td>\n",
       "      <td>Data Engineer</td>\n",
       "      <td>1100.0</td>\n",
       "      <td>Invoicing(Right people Group)</td>\n",
       "      <td>NaN</td>\n",
       "      <td>2022-12-05</td>\n",
       "      <td>Payne-Nelson</td>\n",
       "    </tr>\n",
       "    <tr>\n",
       "      <th>4</th>\n",
       "      <td>347c5d6b-8487-437c-8945-612a32c0b866</td>\n",
       "      <td>NaN</td>\n",
       "      <td>NaN</td>\n",
       "      <td>1100.0</td>\n",
       "      <td>NaN</td>\n",
       "      <td>NaN</td>\n",
       "      <td>2022-09-11</td>\n",
       "      <td>Payne-Nelson</td>\n",
       "    </tr>\n",
       "  </tbody>\n",
       "</table>\n",
       "</div>"
      ],
      "text/plain": [
       "                                role_id industry_name role_category_name  \\\n",
       "0  68fb318f-438b-4257-95f2-3893564ebd01           NaN                NaN   \n",
       "1  b5a1a16b-99d7-4895-b927-0d0afa074c35           NaN                NaN   \n",
       "2  264b42da-30b3-8026-b4e1-f6a7c2832cc2           NaN       Data Analyst   \n",
       "3  0517e8f8-b88c-41fa-ae1a-57458f4571d0           NaN      Data Engineer   \n",
       "4  347c5d6b-8487-437c-8945-612a32c0b866           NaN                NaN   \n",
       "\n",
       "   hourly_rate                   billing_type seniority   startdate  \\\n",
       "0          NaN                            NaN        K2  2023-10-01   \n",
       "1          NaN                            NaN       NaN         NaN   \n",
       "2        900.0                         Direct       NaN  2025-09-04   \n",
       "3       1100.0  Invoicing(Right people Group)       NaN  2022-12-05   \n",
       "4       1100.0                            NaN       NaN  2022-09-11   \n",
       "\n",
       "        name_anon  \n",
       "0             NaN  \n",
       "1             NaN  \n",
       "2  Terry and Sons  \n",
       "3    Payne-Nelson  \n",
       "4    Payne-Nelson  "
      ]
     },
     "metadata": {},
     "output_type": "display_data"
    },
    {
     "name": "stdout",
     "output_type": "stream",
     "text": [
      "--------------------------------------------------------------------------------\n",
      "\n",
      "Loaded data/dim__projects__anonymized.csv as df5\n",
      "File: data/dim__projects__anonymized.csv\n",
      "Shape: 91 rows × 7 columns\n",
      "\n",
      "First 5 rows of df5:\n"
     ]
    },
    {
     "data": {
      "text/html": [
       "<div>\n",
       "<style scoped>\n",
       "    .dataframe tbody tr th:only-of-type {\n",
       "        vertical-align: middle;\n",
       "    }\n",
       "\n",
       "    .dataframe tbody tr th {\n",
       "        vertical-align: top;\n",
       "    }\n",
       "\n",
       "    .dataframe thead th {\n",
       "        text-align: right;\n",
       "    }\n",
       "</style>\n",
       "<table border=\"1\" class=\"dataframe\">\n",
       "  <thead>\n",
       "    <tr style=\"text-align: right;\">\n",
       "      <th></th>\n",
       "      <th>project_id</th>\n",
       "      <th>client_id</th>\n",
       "      <th>clockify_project_billable</th>\n",
       "      <th>project_duration</th>\n",
       "      <th>estimated_durationn</th>\n",
       "      <th>client_anon</th>\n",
       "      <th>project_anon</th>\n",
       "    </tr>\n",
       "  </thead>\n",
       "  <tbody>\n",
       "    <tr>\n",
       "      <th>0</th>\n",
       "      <td>5f60a92df2bfed445099122e</td>\n",
       "      <td>5f437b54d13ed94468add358</td>\n",
       "      <td>False</td>\n",
       "      <td>232H</td>\n",
       "      <td>Not estimated</td>\n",
       "      <td>Taylor, Simmons and Anderson</td>\n",
       "      <td>Obetald semester</td>\n",
       "    </tr>\n",
       "    <tr>\n",
       "      <th>1</th>\n",
       "      <td>65a66b6f7349ba6dbd1f1086</td>\n",
       "      <td>5f437b54d13ed94468add358</td>\n",
       "      <td>False</td>\n",
       "      <td>414H</td>\n",
       "      <td>Not estimated</td>\n",
       "      <td>Taylor, Simmons and Anderson</td>\n",
       "      <td>Brown, Martinez and Manning Projects</td>\n",
       "    </tr>\n",
       "    <tr>\n",
       "      <th>2</th>\n",
       "      <td>5f437f189decb91192e37bc0</td>\n",
       "      <td>5f437b54d13ed94468add358</td>\n",
       "      <td>False</td>\n",
       "      <td>10321H</td>\n",
       "      <td>Not estimated</td>\n",
       "      <td>Taylor, Simmons and Anderson</td>\n",
       "      <td>Semester</td>\n",
       "    </tr>\n",
       "    <tr>\n",
       "      <th>3</th>\n",
       "      <td>6179a9ac4d694b7ecbe75ea6</td>\n",
       "      <td>5f437b54d13ed94468add358</td>\n",
       "      <td>False</td>\n",
       "      <td>396H</td>\n",
       "      <td>Not estimated</td>\n",
       "      <td>Taylor, Simmons and Anderson</td>\n",
       "      <td>Vård av barn</td>\n",
       "    </tr>\n",
       "    <tr>\n",
       "      <th>4</th>\n",
       "      <td>65a66b65efacdd3a4371df50</td>\n",
       "      <td>5f437b54d13ed94468add358</td>\n",
       "      <td>False</td>\n",
       "      <td>52H</td>\n",
       "      <td>Not estimated</td>\n",
       "      <td>Taylor, Simmons and Anderson</td>\n",
       "      <td>Competence development</td>\n",
       "    </tr>\n",
       "  </tbody>\n",
       "</table>\n",
       "</div>"
      ],
      "text/plain": [
       "                 project_id                 client_id  \\\n",
       "0  5f60a92df2bfed445099122e  5f437b54d13ed94468add358   \n",
       "1  65a66b6f7349ba6dbd1f1086  5f437b54d13ed94468add358   \n",
       "2  5f437f189decb91192e37bc0  5f437b54d13ed94468add358   \n",
       "3  6179a9ac4d694b7ecbe75ea6  5f437b54d13ed94468add358   \n",
       "4  65a66b65efacdd3a4371df50  5f437b54d13ed94468add358   \n",
       "\n",
       "   clockify_project_billable project_duration estimated_durationn  \\\n",
       "0                      False             232H       Not estimated   \n",
       "1                      False             414H       Not estimated   \n",
       "2                      False           10321H       Not estimated   \n",
       "3                      False             396H       Not estimated   \n",
       "4                      False              52H       Not estimated   \n",
       "\n",
       "                    client_anon                          project_anon  \n",
       "0  Taylor, Simmons and Anderson                      Obetald semester  \n",
       "1  Taylor, Simmons and Anderson  Brown, Martinez and Manning Projects  \n",
       "2  Taylor, Simmons and Anderson                              Semester  \n",
       "3  Taylor, Simmons and Anderson                          Vård av barn  \n",
       "4  Taylor, Simmons and Anderson                Competence development  "
      ]
     },
     "metadata": {},
     "output_type": "display_data"
    },
    {
     "name": "stdout",
     "output_type": "stream",
     "text": [
      "--------------------------------------------------------------------------------\n",
      "\n",
      "Loaded data/dim_employees_anon.csv as df6\n",
      "File: data/dim_employees_anon.csv\n",
      "Shape: 13 rows × 6 columns\n",
      "\n",
      "First 5 rows of df6:\n"
     ]
    },
    {
     "data": {
      "text/html": [
       "<div>\n",
       "<style scoped>\n",
       "    .dataframe tbody tr th:only-of-type {\n",
       "        vertical-align: middle;\n",
       "    }\n",
       "\n",
       "    .dataframe tbody tr th {\n",
       "        vertical-align: top;\n",
       "    }\n",
       "\n",
       "    .dataframe thead th {\n",
       "        text-align: right;\n",
       "    }\n",
       "</style>\n",
       "<table border=\"1\" class=\"dataframe\">\n",
       "  <thead>\n",
       "    <tr style=\"text-align: right;\">\n",
       "      <th></th>\n",
       "      <th>employee_id</th>\n",
       "      <th>employee_code</th>\n",
       "      <th>first_name</th>\n",
       "      <th>last_name</th>\n",
       "      <th>is_active</th>\n",
       "      <th>practice</th>\n",
       "    </tr>\n",
       "  </thead>\n",
       "  <tbody>\n",
       "    <tr>\n",
       "      <th>0</th>\n",
       "      <td>20</td>\n",
       "      <td>22</td>\n",
       "      <td>Luke</td>\n",
       "      <td>Rhinehart</td>\n",
       "      <td>True</td>\n",
       "      <td>NaN</td>\n",
       "    </tr>\n",
       "    <tr>\n",
       "      <th>1</th>\n",
       "      <td>21</td>\n",
       "      <td>23</td>\n",
       "      <td>Alexander</td>\n",
       "      <td>Macedon</td>\n",
       "      <td>True</td>\n",
       "      <td>NaN</td>\n",
       "    </tr>\n",
       "    <tr>\n",
       "      <th>2</th>\n",
       "      <td>12</td>\n",
       "      <td>18</td>\n",
       "      <td>Rachel</td>\n",
       "      <td>Lamb</td>\n",
       "      <td>True</td>\n",
       "      <td>Analytics</td>\n",
       "    </tr>\n",
       "    <tr>\n",
       "      <th>3</th>\n",
       "      <td>2</td>\n",
       "      <td>9</td>\n",
       "      <td>Bingo</td>\n",
       "      <td>Storm</td>\n",
       "      <td>True</td>\n",
       "      <td>Analytics</td>\n",
       "    </tr>\n",
       "    <tr>\n",
       "      <th>4</th>\n",
       "      <td>9</td>\n",
       "      <td>15</td>\n",
       "      <td>Astarion</td>\n",
       "      <td>Baldersson</td>\n",
       "      <td>True</td>\n",
       "      <td>Analytics</td>\n",
       "    </tr>\n",
       "  </tbody>\n",
       "</table>\n",
       "</div>"
      ],
      "text/plain": [
       "   employee_id  employee_code first_name   last_name  is_active   practice\n",
       "0           20             22       Luke   Rhinehart       True        NaN\n",
       "1           21             23  Alexander     Macedon       True        NaN\n",
       "2           12             18     Rachel        Lamb       True  Analytics\n",
       "3            2              9      Bingo       Storm       True  Analytics\n",
       "4            9             15   Astarion  Baldersson       True  Analytics"
      ]
     },
     "metadata": {},
     "output_type": "display_data"
    },
    {
     "name": "stdout",
     "output_type": "stream",
     "text": [
      "--------------------------------------------------------------------------------\n",
      "\n",
      "Loaded data/fct__fortnox_invoices__anonymized.csv as df7\n",
      "File: data/fct__fortnox_invoices__anonymized.csv\n",
      "Shape: 615 rows × 12 columns\n",
      "\n",
      "First 5 rows of df7:\n"
     ]
    },
    {
     "data": {
      "text/html": [
       "<div>\n",
       "<style scoped>\n",
       "    .dataframe tbody tr th:only-of-type {\n",
       "        vertical-align: middle;\n",
       "    }\n",
       "\n",
       "    .dataframe tbody tr th {\n",
       "        vertical-align: top;\n",
       "    }\n",
       "\n",
       "    .dataframe thead th {\n",
       "        text-align: right;\n",
       "    }\n",
       "</style>\n",
       "<table border=\"1\" class=\"dataframe\">\n",
       "  <thead>\n",
       "    <tr style=\"text-align: right;\">\n",
       "      <th></th>\n",
       "      <th>invoice_amount_net</th>\n",
       "      <th>invoice_amount_total</th>\n",
       "      <th>customer_number</th>\n",
       "      <th>due_date</th>\n",
       "      <th>invoice_date</th>\n",
       "      <th>final_pay_date</th>\n",
       "      <th>month_name</th>\n",
       "      <th>accounting_month</th>\n",
       "      <th>accounting_year</th>\n",
       "      <th>accounting_year_date</th>\n",
       "      <th>broker</th>\n",
       "      <th>client_anon</th>\n",
       "    </tr>\n",
       "  </thead>\n",
       "  <tbody>\n",
       "    <tr>\n",
       "      <th>0</th>\n",
       "      <td>52000.0</td>\n",
       "      <td>65000.0</td>\n",
       "      <td>559296</td>\n",
       "      <td>2024-10-15</td>\n",
       "      <td>2024-09-30</td>\n",
       "      <td>NaN</td>\n",
       "      <td>September</td>\n",
       "      <td>5</td>\n",
       "      <td>2024</td>\n",
       "      <td>2024-05-28</td>\n",
       "      <td>NaN</td>\n",
       "      <td>Mccoy, Singh and Smith</td>\n",
       "    </tr>\n",
       "    <tr>\n",
       "      <th>1</th>\n",
       "      <td>136500.0</td>\n",
       "      <td>170625.0</td>\n",
       "      <td>559298</td>\n",
       "      <td>2024-12-04</td>\n",
       "      <td>2024-11-04</td>\n",
       "      <td>2024-12-04</td>\n",
       "      <td>November</td>\n",
       "      <td>7</td>\n",
       "      <td>2024</td>\n",
       "      <td>2024-07-04</td>\n",
       "      <td>NaN</td>\n",
       "      <td>Atkinson, Bishop and Cohen</td>\n",
       "    </tr>\n",
       "    <tr>\n",
       "      <th>2</th>\n",
       "      <td>192000.0</td>\n",
       "      <td>240000.0</td>\n",
       "      <td>559298</td>\n",
       "      <td>2025-01-01</td>\n",
       "      <td>2024-11-30</td>\n",
       "      <td>2024-12-30</td>\n",
       "      <td>November</td>\n",
       "      <td>7</td>\n",
       "      <td>2024</td>\n",
       "      <td>2024-07-28</td>\n",
       "      <td>NaN</td>\n",
       "      <td>Atkinson, Bishop and Cohen</td>\n",
       "    </tr>\n",
       "    <tr>\n",
       "      <th>3</th>\n",
       "      <td>133500.0</td>\n",
       "      <td>166875.0</td>\n",
       "      <td>559298</td>\n",
       "      <td>2025-02-02</td>\n",
       "      <td>2024-12-31</td>\n",
       "      <td>2025-01-31</td>\n",
       "      <td>December</td>\n",
       "      <td>8</td>\n",
       "      <td>2024</td>\n",
       "      <td>2024-08-28</td>\n",
       "      <td>NaN</td>\n",
       "      <td>Atkinson, Bishop and Cohen</td>\n",
       "    </tr>\n",
       "    <tr>\n",
       "      <th>4</th>\n",
       "      <td>212800.0</td>\n",
       "      <td>266000.0</td>\n",
       "      <td>559298</td>\n",
       "      <td>2025-03-05</td>\n",
       "      <td>2025-01-31</td>\n",
       "      <td>2025-03-05</td>\n",
       "      <td>January</td>\n",
       "      <td>9</td>\n",
       "      <td>2024</td>\n",
       "      <td>2024-09-28</td>\n",
       "      <td>NaN</td>\n",
       "      <td>Atkinson, Bishop and Cohen</td>\n",
       "    </tr>\n",
       "  </tbody>\n",
       "</table>\n",
       "</div>"
      ],
      "text/plain": [
       "   invoice_amount_net  invoice_amount_total  customer_number    due_date  \\\n",
       "0             52000.0               65000.0           559296  2024-10-15   \n",
       "1            136500.0              170625.0           559298  2024-12-04   \n",
       "2            192000.0              240000.0           559298  2025-01-01   \n",
       "3            133500.0              166875.0           559298  2025-02-02   \n",
       "4            212800.0              266000.0           559298  2025-03-05   \n",
       "\n",
       "  invoice_date final_pay_date month_name  accounting_month  accounting_year  \\\n",
       "0   2024-09-30            NaN  September                 5             2024   \n",
       "1   2024-11-04     2024-12-04   November                 7             2024   \n",
       "2   2024-11-30     2024-12-30   November                 7             2024   \n",
       "3   2024-12-31     2025-01-31   December                 8             2024   \n",
       "4   2025-01-31     2025-03-05    January                 9             2024   \n",
       "\n",
       "  accounting_year_date broker                 client_anon  \n",
       "0           2024-05-28    NaN      Mccoy, Singh and Smith  \n",
       "1           2024-07-04    NaN  Atkinson, Bishop and Cohen  \n",
       "2           2024-07-28    NaN  Atkinson, Bishop and Cohen  \n",
       "3           2024-08-28    NaN  Atkinson, Bishop and Cohen  \n",
       "4           2024-09-28    NaN  Atkinson, Bishop and Cohen  "
      ]
     },
     "metadata": {},
     "output_type": "display_data"
    },
    {
     "name": "stdout",
     "output_type": "stream",
     "text": [
      "--------------------------------------------------------------------------------\n",
      "\n",
      "Loaded data/fct__fortnox_supplier_invoices.csv as df8\n",
      "File: data/fct__fortnox_supplier_invoices.csv\n",
      "Shape: 748 rows × 5 columns\n",
      "\n",
      "First 5 rows of df8:\n"
     ]
    },
    {
     "data": {
      "text/html": [
       "<div>\n",
       "<style scoped>\n",
       "    .dataframe tbody tr th:only-of-type {\n",
       "        vertical-align: middle;\n",
       "    }\n",
       "\n",
       "    .dataframe tbody tr th {\n",
       "        vertical-align: top;\n",
       "    }\n",
       "\n",
       "    .dataframe thead th {\n",
       "        text-align: right;\n",
       "    }\n",
       "</style>\n",
       "<table border=\"1\" class=\"dataframe\">\n",
       "  <thead>\n",
       "    <tr style=\"text-align: right;\">\n",
       "      <th></th>\n",
       "      <th>invoice_payment</th>\n",
       "      <th>categorization</th>\n",
       "      <th>invoice_date</th>\n",
       "      <th>due_date</th>\n",
       "      <th>final_pay_date</th>\n",
       "    </tr>\n",
       "  </thead>\n",
       "  <tbody>\n",
       "    <tr>\n",
       "      <th>0</th>\n",
       "      <td>296.50</td>\n",
       "      <td>mobile_costs</td>\n",
       "      <td>2019-11-04</td>\n",
       "      <td>2019-11-28</td>\n",
       "      <td>2019-11-26</td>\n",
       "    </tr>\n",
       "    <tr>\n",
       "      <th>1</th>\n",
       "      <td>253.20</td>\n",
       "      <td>mobile_costs</td>\n",
       "      <td>2019-10-03</td>\n",
       "      <td>2019-10-27</td>\n",
       "      <td>2019-10-25</td>\n",
       "    </tr>\n",
       "    <tr>\n",
       "      <th>2</th>\n",
       "      <td>516.55</td>\n",
       "      <td>mobile_costs</td>\n",
       "      <td>2020-04-01</td>\n",
       "      <td>2020-04-01</td>\n",
       "      <td>2020-04-27</td>\n",
       "    </tr>\n",
       "    <tr>\n",
       "      <th>3</th>\n",
       "      <td>452.71</td>\n",
       "      <td>mobile_costs</td>\n",
       "      <td>2020-03-03</td>\n",
       "      <td>2020-03-27</td>\n",
       "      <td>2020-04-08</td>\n",
       "    </tr>\n",
       "    <tr>\n",
       "      <th>4</th>\n",
       "      <td>353.05</td>\n",
       "      <td>mobile_costs</td>\n",
       "      <td>2020-02-03</td>\n",
       "      <td>2020-02-27</td>\n",
       "      <td>2020-02-05</td>\n",
       "    </tr>\n",
       "  </tbody>\n",
       "</table>\n",
       "</div>"
      ],
      "text/plain": [
       "   invoice_payment categorization invoice_date    due_date final_pay_date\n",
       "0           296.50   mobile_costs   2019-11-04  2019-11-28     2019-11-26\n",
       "1           253.20   mobile_costs   2019-10-03  2019-10-27     2019-10-25\n",
       "2           516.55   mobile_costs   2020-04-01  2020-04-01     2020-04-27\n",
       "3           452.71   mobile_costs   2020-03-03  2020-03-27     2020-04-08\n",
       "4           353.05   mobile_costs   2020-02-03  2020-02-27     2020-02-05"
      ]
     },
     "metadata": {},
     "output_type": "display_data"
    },
    {
     "name": "stdout",
     "output_type": "stream",
     "text": [
      "--------------------------------------------------------------------------------\n",
      "\n",
      "Loaded data/fct__hubspot_deals__anonymized.csv as df9\n",
      "File: data/fct__hubspot_deals__anonymized.csv\n",
      "Shape: 322 rows × 11 columns\n",
      "\n",
      "First 5 rows of df9:\n"
     ]
    },
    {
     "data": {
      "text/html": [
       "<div>\n",
       "<style scoped>\n",
       "    .dataframe tbody tr th:only-of-type {\n",
       "        vertical-align: middle;\n",
       "    }\n",
       "\n",
       "    .dataframe tbody tr th {\n",
       "        vertical-align: top;\n",
       "    }\n",
       "\n",
       "    .dataframe thead th {\n",
       "        text-align: right;\n",
       "    }\n",
       "</style>\n",
       "<table border=\"1\" class=\"dataframe\">\n",
       "  <thead>\n",
       "    <tr style=\"text-align: right;\">\n",
       "      <th></th>\n",
       "      <th>deal_id</th>\n",
       "      <th>deal_amount</th>\n",
       "      <th>deal_stage</th>\n",
       "      <th>deal_close_probability</th>\n",
       "      <th>create_date</th>\n",
       "      <th>last_modified_date</th>\n",
       "      <th>close_date</th>\n",
       "      <th>owner_id</th>\n",
       "      <th>is_archived</th>\n",
       "      <th>weighted_deal_amount</th>\n",
       "      <th>deal_name_anon</th>\n",
       "    </tr>\n",
       "  </thead>\n",
       "  <tbody>\n",
       "    <tr>\n",
       "      <th>0</th>\n",
       "      <td>12204336178</td>\n",
       "      <td>1000000.0</td>\n",
       "      <td>closedlost</td>\n",
       "      <td>0.0</td>\n",
       "      <td>2023-02-17 15:36:41.602000 UTC</td>\n",
       "      <td>2023-03-17 10:52:17.288000 UTC</td>\n",
       "      <td>2023-02-27 11:15:06.295000 UTC</td>\n",
       "      <td>184321862</td>\n",
       "      <td>False</td>\n",
       "      <td>0.0</td>\n",
       "      <td>Dometic - Data Solution Architect role</td>\n",
       "    </tr>\n",
       "    <tr>\n",
       "      <th>1</th>\n",
       "      <td>15856959370</td>\n",
       "      <td>1000000.0</td>\n",
       "      <td>closedlost</td>\n",
       "      <td>0.0</td>\n",
       "      <td>2023-10-31 08:43:47.711000 UTC</td>\n",
       "      <td>2023-11-17 09:41:31.071000 UTC</td>\n",
       "      <td>2023-11-17 09:41:30.971000 UTC</td>\n",
       "      <td>184321862</td>\n",
       "      <td>False</td>\n",
       "      <td>0.0</td>\n",
       "      <td>Morris, Juarez and Chavez - Optimize delivery ...</td>\n",
       "    </tr>\n",
       "    <tr>\n",
       "      <th>2</th>\n",
       "      <td>18757261362</td>\n",
       "      <td>1200000.0</td>\n",
       "      <td>closedlost</td>\n",
       "      <td>0.0</td>\n",
       "      <td>2024-04-19 12:24:49.100000 UTC</td>\n",
       "      <td>2024-05-17 12:08:02.490000 UTC</td>\n",
       "      <td>2024-05-17 12:07:46.527000 UTC</td>\n",
       "      <td>184321862</td>\n",
       "      <td>False</td>\n",
       "      <td>0.0</td>\n",
       "      <td>ICA Banken GCP Architect</td>\n",
       "    </tr>\n",
       "    <tr>\n",
       "      <th>3</th>\n",
       "      <td>17014095971</td>\n",
       "      <td>1000000.0</td>\n",
       "      <td>closedlost</td>\n",
       "      <td>0.0</td>\n",
       "      <td>2024-01-18 10:32:41.435000 UTC</td>\n",
       "      <td>2024-02-23 08:12:52.206000 UTC</td>\n",
       "      <td>2024-02-23 08:12:46.209000 UTC</td>\n",
       "      <td>184321862</td>\n",
       "      <td>False</td>\n",
       "      <td>0.0</td>\n",
       "      <td>Morris, Juarez and Chavez Miller, Kidd and Dic...</td>\n",
       "    </tr>\n",
       "    <tr>\n",
       "      <th>4</th>\n",
       "      <td>20551258523</td>\n",
       "      <td>600000.0</td>\n",
       "      <td>closedlost</td>\n",
       "      <td>0.0</td>\n",
       "      <td>2024-07-05 13:08:26.064000 UTC</td>\n",
       "      <td>2024-12-13 13:18:34.627000 UTC</td>\n",
       "      <td>2024-12-13 13:18:30.146000 UTC</td>\n",
       "      <td>184321862</td>\n",
       "      <td>False</td>\n",
       "      <td>0.0</td>\n",
       "      <td>Morris, Juarez and Chavez AI opportunities</td>\n",
       "    </tr>\n",
       "  </tbody>\n",
       "</table>\n",
       "</div>"
      ],
      "text/plain": [
       "       deal_id  deal_amount  deal_stage  deal_close_probability  \\\n",
       "0  12204336178    1000000.0  closedlost                     0.0   \n",
       "1  15856959370    1000000.0  closedlost                     0.0   \n",
       "2  18757261362    1200000.0  closedlost                     0.0   \n",
       "3  17014095971    1000000.0  closedlost                     0.0   \n",
       "4  20551258523     600000.0  closedlost                     0.0   \n",
       "\n",
       "                      create_date              last_modified_date  \\\n",
       "0  2023-02-17 15:36:41.602000 UTC  2023-03-17 10:52:17.288000 UTC   \n",
       "1  2023-10-31 08:43:47.711000 UTC  2023-11-17 09:41:31.071000 UTC   \n",
       "2  2024-04-19 12:24:49.100000 UTC  2024-05-17 12:08:02.490000 UTC   \n",
       "3  2024-01-18 10:32:41.435000 UTC  2024-02-23 08:12:52.206000 UTC   \n",
       "4  2024-07-05 13:08:26.064000 UTC  2024-12-13 13:18:34.627000 UTC   \n",
       "\n",
       "                       close_date   owner_id  is_archived  \\\n",
       "0  2023-02-27 11:15:06.295000 UTC  184321862        False   \n",
       "1  2023-11-17 09:41:30.971000 UTC  184321862        False   \n",
       "2  2024-05-17 12:07:46.527000 UTC  184321862        False   \n",
       "3  2024-02-23 08:12:46.209000 UTC  184321862        False   \n",
       "4  2024-12-13 13:18:30.146000 UTC  184321862        False   \n",
       "\n",
       "   weighted_deal_amount                                     deal_name_anon  \n",
       "0                   0.0             Dometic - Data Solution Architect role  \n",
       "1                   0.0  Morris, Juarez and Chavez - Optimize delivery ...  \n",
       "2                   0.0                           ICA Banken GCP Architect  \n",
       "3                   0.0  Morris, Juarez and Chavez Miller, Kidd and Dic...  \n",
       "4                   0.0         Morris, Juarez and Chavez AI opportunities  "
      ]
     },
     "metadata": {},
     "output_type": "display_data"
    },
    {
     "name": "stdout",
     "output_type": "stream",
     "text": [
      "--------------------------------------------------------------------------------\n",
      "\n",
      "Loaded data/fct__time_entries.csv as df10\n",
      "File: data/fct__time_entries.csv\n",
      "Shape: 9808 rows × 7 columns\n",
      "\n",
      "First 5 rows of df10:\n"
     ]
    },
    {
     "data": {
      "text/html": [
       "<div>\n",
       "<style scoped>\n",
       "    .dataframe tbody tr th:only-of-type {\n",
       "        vertical-align: middle;\n",
       "    }\n",
       "\n",
       "    .dataframe tbody tr th {\n",
       "        vertical-align: top;\n",
       "    }\n",
       "\n",
       "    .dataframe thead th {\n",
       "        text-align: right;\n",
       "    }\n",
       "</style>\n",
       "<table border=\"1\" class=\"dataframe\">\n",
       "  <thead>\n",
       "    <tr style=\"text-align: right;\">\n",
       "      <th></th>\n",
       "      <th>dt</th>\n",
       "      <th>time_entry_id</th>\n",
       "      <th>project_id</th>\n",
       "      <th>user_id</th>\n",
       "      <th>billable</th>\n",
       "      <th>hours</th>\n",
       "      <th>billable_hours</th>\n",
       "    </tr>\n",
       "  </thead>\n",
       "  <tbody>\n",
       "    <tr>\n",
       "      <th>0</th>\n",
       "      <td>2025-11-28</td>\n",
       "      <td>67c592453f4d6b42ba2ee7bb</td>\n",
       "      <td>60106d6e9ab6ce7c1dacbc9c</td>\n",
       "      <td>64e5f63d97f5910c716406b8</td>\n",
       "      <td>False</td>\n",
       "      <td>8.0</td>\n",
       "      <td>NaN</td>\n",
       "    </tr>\n",
       "    <tr>\n",
       "      <th>1</th>\n",
       "      <td>2025-11-27</td>\n",
       "      <td>67c592453f4d6b42ba2ee7ba</td>\n",
       "      <td>60106d6e9ab6ce7c1dacbc9c</td>\n",
       "      <td>64e5f63d97f5910c716406b8</td>\n",
       "      <td>False</td>\n",
       "      <td>8.0</td>\n",
       "      <td>NaN</td>\n",
       "    </tr>\n",
       "    <tr>\n",
       "      <th>2</th>\n",
       "      <td>2025-11-26</td>\n",
       "      <td>67c592453f4d6b42ba2ee7b9</td>\n",
       "      <td>60106d6e9ab6ce7c1dacbc9c</td>\n",
       "      <td>64e5f63d97f5910c716406b8</td>\n",
       "      <td>False</td>\n",
       "      <td>8.0</td>\n",
       "      <td>NaN</td>\n",
       "    </tr>\n",
       "    <tr>\n",
       "      <th>3</th>\n",
       "      <td>2025-11-25</td>\n",
       "      <td>67c592453f4d6b42ba2ee7b8</td>\n",
       "      <td>60106d6e9ab6ce7c1dacbc9c</td>\n",
       "      <td>64e5f63d97f5910c716406b8</td>\n",
       "      <td>False</td>\n",
       "      <td>8.0</td>\n",
       "      <td>NaN</td>\n",
       "    </tr>\n",
       "    <tr>\n",
       "      <th>4</th>\n",
       "      <td>2025-11-24</td>\n",
       "      <td>67c592453f4d6b42ba2ee7b7</td>\n",
       "      <td>60106d6e9ab6ce7c1dacbc9c</td>\n",
       "      <td>64e5f63d97f5910c716406b8</td>\n",
       "      <td>False</td>\n",
       "      <td>8.0</td>\n",
       "      <td>NaN</td>\n",
       "    </tr>\n",
       "  </tbody>\n",
       "</table>\n",
       "</div>"
      ],
      "text/plain": [
       "           dt             time_entry_id                project_id  \\\n",
       "0  2025-11-28  67c592453f4d6b42ba2ee7bb  60106d6e9ab6ce7c1dacbc9c   \n",
       "1  2025-11-27  67c592453f4d6b42ba2ee7ba  60106d6e9ab6ce7c1dacbc9c   \n",
       "2  2025-11-26  67c592453f4d6b42ba2ee7b9  60106d6e9ab6ce7c1dacbc9c   \n",
       "3  2025-11-25  67c592453f4d6b42ba2ee7b8  60106d6e9ab6ce7c1dacbc9c   \n",
       "4  2025-11-24  67c592453f4d6b42ba2ee7b7  60106d6e9ab6ce7c1dacbc9c   \n",
       "\n",
       "                    user_id  billable  hours  billable_hours  \n",
       "0  64e5f63d97f5910c716406b8     False    8.0             NaN  \n",
       "1  64e5f63d97f5910c716406b8     False    8.0             NaN  \n",
       "2  64e5f63d97f5910c716406b8     False    8.0             NaN  \n",
       "3  64e5f63d97f5910c716406b8     False    8.0             NaN  \n",
       "4  64e5f63d97f5910c716406b8     False    8.0             NaN  "
      ]
     },
     "metadata": {},
     "output_type": "display_data"
    },
    {
     "name": "stdout",
     "output_type": "stream",
     "text": [
      "--------------------------------------------------------------------------------\n",
      "\n",
      "Loaded data/stg_qbis__activity_time.csv as df11\n",
      "File: data/stg_qbis__activity_time.csv\n",
      "Shape: 866 rows × 8 columns\n",
      "\n",
      "First 5 rows of df11:\n"
     ]
    },
    {
     "data": {
      "text/html": [
       "<div>\n",
       "<style scoped>\n",
       "    .dataframe tbody tr th:only-of-type {\n",
       "        vertical-align: middle;\n",
       "    }\n",
       "\n",
       "    .dataframe tbody tr th {\n",
       "        vertical-align: top;\n",
       "    }\n",
       "\n",
       "    .dataframe thead th {\n",
       "        text-align: right;\n",
       "    }\n",
       "</style>\n",
       "<table border=\"1\" class=\"dataframe\">\n",
       "  <thead>\n",
       "    <tr style=\"text-align: right;\">\n",
       "      <th></th>\n",
       "      <th>activity_time_id</th>\n",
       "      <th>employee_id</th>\n",
       "      <th>activity_id</th>\n",
       "      <th>activity_date</th>\n",
       "      <th>minutes</th>\n",
       "      <th>factor_value</th>\n",
       "      <th>notes_internal</th>\n",
       "      <th>processed_at</th>\n",
       "    </tr>\n",
       "  </thead>\n",
       "  <tbody>\n",
       "    <tr>\n",
       "      <th>0</th>\n",
       "      <td>750</td>\n",
       "      <td>5</td>\n",
       "      <td>20</td>\n",
       "      <td>2025-05-10</td>\n",
       "      <td>0</td>\n",
       "      <td>0.0</td>\n",
       "      <td>Data Innovation Summit + Interna möten fredag</td>\n",
       "      <td>2025-09-08 05:26:08.566517 UTC</td>\n",
       "    </tr>\n",
       "    <tr>\n",
       "      <th>1</th>\n",
       "      <td>1256</td>\n",
       "      <td>3</td>\n",
       "      <td>17</td>\n",
       "      <td>2025-06-26</td>\n",
       "      <td>30</td>\n",
       "      <td>1.0</td>\n",
       "      <td>NaN</td>\n",
       "      <td>2025-09-08 05:26:08.566517 UTC</td>\n",
       "    </tr>\n",
       "    <tr>\n",
       "      <th>2</th>\n",
       "      <td>1255</td>\n",
       "      <td>3</td>\n",
       "      <td>17</td>\n",
       "      <td>2025-06-25</td>\n",
       "      <td>30</td>\n",
       "      <td>1.0</td>\n",
       "      <td>NaN</td>\n",
       "      <td>2025-09-08 05:26:08.566517 UTC</td>\n",
       "    </tr>\n",
       "    <tr>\n",
       "      <th>3</th>\n",
       "      <td>1257</td>\n",
       "      <td>3</td>\n",
       "      <td>17</td>\n",
       "      <td>2025-06-27</td>\n",
       "      <td>30</td>\n",
       "      <td>1.0</td>\n",
       "      <td>NaN</td>\n",
       "      <td>2025-09-08 05:26:08.566517 UTC</td>\n",
       "    </tr>\n",
       "    <tr>\n",
       "      <th>4</th>\n",
       "      <td>1564</td>\n",
       "      <td>3</td>\n",
       "      <td>21</td>\n",
       "      <td>2025-08-21</td>\n",
       "      <td>30</td>\n",
       "      <td>1.0</td>\n",
       "      <td>NaN</td>\n",
       "      <td>2025-09-08 05:26:08.566517 UTC</td>\n",
       "    </tr>\n",
       "  </tbody>\n",
       "</table>\n",
       "</div>"
      ],
      "text/plain": [
       "   activity_time_id  employee_id  activity_id activity_date  minutes  \\\n",
       "0               750            5           20    2025-05-10        0   \n",
       "1              1256            3           17    2025-06-26       30   \n",
       "2              1255            3           17    2025-06-25       30   \n",
       "3              1257            3           17    2025-06-27       30   \n",
       "4              1564            3           21    2025-08-21       30   \n",
       "\n",
       "   factor_value                                 notes_internal  \\\n",
       "0           0.0  Data Innovation Summit + Interna möten fredag   \n",
       "1           1.0                                            NaN   \n",
       "2           1.0                                            NaN   \n",
       "3           1.0                                            NaN   \n",
       "4           1.0                                            NaN   \n",
       "\n",
       "                     processed_at  \n",
       "0  2025-09-08 05:26:08.566517 UTC  \n",
       "1  2025-09-08 05:26:08.566517 UTC  \n",
       "2  2025-09-08 05:26:08.566517 UTC  \n",
       "3  2025-09-08 05:26:08.566517 UTC  \n",
       "4  2025-09-08 05:26:08.566517 UTC  "
      ]
     },
     "metadata": {},
     "output_type": "display_data"
    },
    {
     "name": "stdout",
     "output_type": "stream",
     "text": [
      "--------------------------------------------------------------------------------\n",
      "\n",
      "Loaded data/stg_qbis__project_activities.csv as df12\n",
      "File: data/stg_qbis__project_activities.csv\n",
      "Shape: 25 rows × 20 columns\n",
      "\n",
      "First 5 rows of df12:\n"
     ]
    },
    {
     "data": {
      "text/html": [
       "<div>\n",
       "<style scoped>\n",
       "    .dataframe tbody tr th:only-of-type {\n",
       "        vertical-align: middle;\n",
       "    }\n",
       "\n",
       "    .dataframe tbody tr th {\n",
       "        vertical-align: top;\n",
       "    }\n",
       "\n",
       "    .dataframe thead th {\n",
       "        text-align: right;\n",
       "    }\n",
       "</style>\n",
       "<table border=\"1\" class=\"dataframe\">\n",
       "  <thead>\n",
       "    <tr style=\"text-align: right;\">\n",
       "      <th></th>\n",
       "      <th>project_activity_id</th>\n",
       "      <th>project_id</th>\n",
       "      <th>phase_id</th>\n",
       "      <th>activity_name</th>\n",
       "      <th>is_active</th>\n",
       "      <th>is_complete</th>\n",
       "      <th>is_chargeable</th>\n",
       "      <th>is_locked</th>\n",
       "      <th>has_warning</th>\n",
       "      <th>is_group_budget</th>\n",
       "      <th>start_date</th>\n",
       "      <th>end_date</th>\n",
       "      <th>chargeable_date</th>\n",
       "      <th>max_hours</th>\n",
       "      <th>budget_hours</th>\n",
       "      <th>factor</th>\n",
       "      <th>cost_per_hour</th>\n",
       "      <th>price_per_hour</th>\n",
       "      <th>price_fixed</th>\n",
       "      <th>processed_at</th>\n",
       "    </tr>\n",
       "  </thead>\n",
       "  <tbody>\n",
       "    <tr>\n",
       "      <th>0</th>\n",
       "      <td>20</td>\n",
       "      <td>19</td>\n",
       "      <td>0</td>\n",
       "      <td>Internal</td>\n",
       "      <td>True</td>\n",
       "      <td>False</td>\n",
       "      <td>False</td>\n",
       "      <td>False</td>\n",
       "      <td>False</td>\n",
       "      <td>False</td>\n",
       "      <td>NaN</td>\n",
       "      <td>NaN</td>\n",
       "      <td>NaN</td>\n",
       "      <td>0.0</td>\n",
       "      <td>0.0</td>\n",
       "      <td>0.0</td>\n",
       "      <td>0.0</td>\n",
       "      <td>0.0</td>\n",
       "      <td>0.0</td>\n",
       "      <td>2025-09-08 05:25:58.210172 UTC</td>\n",
       "    </tr>\n",
       "    <tr>\n",
       "      <th>1</th>\n",
       "      <td>24</td>\n",
       "      <td>23</td>\n",
       "      <td>0</td>\n",
       "      <td>Internal</td>\n",
       "      <td>True</td>\n",
       "      <td>False</td>\n",
       "      <td>False</td>\n",
       "      <td>False</td>\n",
       "      <td>False</td>\n",
       "      <td>False</td>\n",
       "      <td>NaN</td>\n",
       "      <td>NaN</td>\n",
       "      <td>NaN</td>\n",
       "      <td>0.0</td>\n",
       "      <td>0.0</td>\n",
       "      <td>0.0</td>\n",
       "      <td>0.0</td>\n",
       "      <td>0.0</td>\n",
       "      <td>0.0</td>\n",
       "      <td>2025-09-08 05:25:58.210172 UTC</td>\n",
       "    </tr>\n",
       "    <tr>\n",
       "      <th>2</th>\n",
       "      <td>23</td>\n",
       "      <td>22</td>\n",
       "      <td>0</td>\n",
       "      <td>Internal</td>\n",
       "      <td>True</td>\n",
       "      <td>False</td>\n",
       "      <td>False</td>\n",
       "      <td>False</td>\n",
       "      <td>False</td>\n",
       "      <td>False</td>\n",
       "      <td>NaN</td>\n",
       "      <td>NaN</td>\n",
       "      <td>NaN</td>\n",
       "      <td>0.0</td>\n",
       "      <td>0.0</td>\n",
       "      <td>0.0</td>\n",
       "      <td>0.0</td>\n",
       "      <td>0.0</td>\n",
       "      <td>0.0</td>\n",
       "      <td>2025-09-08 05:25:58.210172 UTC</td>\n",
       "    </tr>\n",
       "    <tr>\n",
       "      <th>3</th>\n",
       "      <td>22</td>\n",
       "      <td>21</td>\n",
       "      <td>0</td>\n",
       "      <td>Internal</td>\n",
       "      <td>True</td>\n",
       "      <td>False</td>\n",
       "      <td>False</td>\n",
       "      <td>False</td>\n",
       "      <td>False</td>\n",
       "      <td>False</td>\n",
       "      <td>NaN</td>\n",
       "      <td>NaN</td>\n",
       "      <td>NaN</td>\n",
       "      <td>0.0</td>\n",
       "      <td>0.0</td>\n",
       "      <td>0.0</td>\n",
       "      <td>0.0</td>\n",
       "      <td>0.0</td>\n",
       "      <td>0.0</td>\n",
       "      <td>2025-09-08 05:25:58.210172 UTC</td>\n",
       "    </tr>\n",
       "    <tr>\n",
       "      <th>4</th>\n",
       "      <td>2</td>\n",
       "      <td>1</td>\n",
       "      <td>0</td>\n",
       "      <td>Aktivitet 1</td>\n",
       "      <td>True</td>\n",
       "      <td>False</td>\n",
       "      <td>True</td>\n",
       "      <td>False</td>\n",
       "      <td>False</td>\n",
       "      <td>False</td>\n",
       "      <td>NaN</td>\n",
       "      <td>NaN</td>\n",
       "      <td>NaN</td>\n",
       "      <td>0.0</td>\n",
       "      <td>0.0</td>\n",
       "      <td>1.0</td>\n",
       "      <td>0.0</td>\n",
       "      <td>0.0</td>\n",
       "      <td>0.0</td>\n",
       "      <td>2025-09-08 05:25:58.210172 UTC</td>\n",
       "    </tr>\n",
       "  </tbody>\n",
       "</table>\n",
       "</div>"
      ],
      "text/plain": [
       "   project_activity_id  project_id  phase_id activity_name  is_active  \\\n",
       "0                   20          19         0      Internal       True   \n",
       "1                   24          23         0      Internal       True   \n",
       "2                   23          22         0      Internal       True   \n",
       "3                   22          21         0      Internal       True   \n",
       "4                    2           1         0   Aktivitet 1       True   \n",
       "\n",
       "   is_complete  is_chargeable  is_locked  has_warning  is_group_budget  \\\n",
       "0        False          False      False        False            False   \n",
       "1        False          False      False        False            False   \n",
       "2        False          False      False        False            False   \n",
       "3        False          False      False        False            False   \n",
       "4        False           True      False        False            False   \n",
       "\n",
       "   start_date  end_date  chargeable_date  max_hours  budget_hours  factor  \\\n",
       "0         NaN       NaN              NaN        0.0           0.0     0.0   \n",
       "1         NaN       NaN              NaN        0.0           0.0     0.0   \n",
       "2         NaN       NaN              NaN        0.0           0.0     0.0   \n",
       "3         NaN       NaN              NaN        0.0           0.0     0.0   \n",
       "4         NaN       NaN              NaN        0.0           0.0     1.0   \n",
       "\n",
       "   cost_per_hour  price_per_hour  price_fixed                    processed_at  \n",
       "0            0.0             0.0          0.0  2025-09-08 05:25:58.210172 UTC  \n",
       "1            0.0             0.0          0.0  2025-09-08 05:25:58.210172 UTC  \n",
       "2            0.0             0.0          0.0  2025-09-08 05:25:58.210172 UTC  \n",
       "3            0.0             0.0          0.0  2025-09-08 05:25:58.210172 UTC  \n",
       "4            0.0             0.0          0.0  2025-09-08 05:25:58.210172 UTC  "
      ]
     },
     "metadata": {},
     "output_type": "display_data"
    },
    {
     "name": "stdout",
     "output_type": "stream",
     "text": [
      "--------------------------------------------------------------------------------\n",
      "\n",
      "df1 is from file: data/dim__hubspot_sales_pipeline_stages.csv\n"
     ]
    }
   ],
   "source": [
    "dataframes, file_mappings = load_all_csv_files()\n",
    "\n",
    "for name, df in dataframes.items():\n",
    "    globals()[name] = df\n",
    "\n",
    "print(f\"df1 is from file: {file_mappings['df1']}\")"
   ]
  },
  {
   "cell_type": "markdown",
   "id": "0a18a6af",
   "metadata": {},
   "source": [
    "## Data modelling"
   ]
  },
  {
   "cell_type": "code",
   "execution_count": 13,
   "id": "6fb8ccc8",
   "metadata": {},
   "outputs": [],
   "source": [
    "# combine and process raw data into datasets for analysis \n",
    "def process_data(df1,df9):\n",
    "    \n",
    "    # store datasets \n",
    "    datasets = {}\n",
    "\n",
    "    # create a sales pipeline dataset\n",
    "    sales_columns_order = [\n",
    "        'deal_id', 'owner_id', 'deal_amount', 'weighted_deal_amount', 'create_date', 'close_date',\n",
    "        'deal_name_anon', 'pipeline_stage', 'pipeline_stage_order'\n",
    "    ]\n",
    "    sales_pipeline = (df9.merge(\n",
    "        df1[['pipeline_stage_id', 'pipeline_stage','pipeline_stage_order']],\n",
    "        left_on='deal_stage',\n",
    "        right_on='pipeline_stage_id',\n",
    "        how='left'\n",
    "    )\n",
    "    .drop(columns=['deal_stage', 'pipeline_stage_id', 'is_archived', 'last_modified_date'])\n",
    "    .reindex(columns=sales_columns_order)\n",
    "    )\n",
    "    date_columns = ['create_date', 'close_date']\n",
    "    for col in date_columns:\n",
    "        sales_pipeline[col] = pd.to_datetime(sales_pipeline[col])\n",
    "    datasets['sales_pipeline'] = sales_pipeline\n",
    "    \n",
    "    # print info for each dataset\n",
    "    print('-'*100)\n",
    "    print(\"DATASETS CREATED\")\n",
    "    print('-'*100)\n",
    "    for name, dataset in datasets.items():\n",
    "        print(f\"\\n{name.upper()} DATASET:\")\n",
    "        print(f\"Shape: {dataset.shape[0]} rows × {dataset.shape[1]} columns\")\n",
    "        print(\"\\nColumn information:\")\n",
    "        buffer = io.StringIO()\n",
    "        dataset.info(buf=buffer)\n",
    "        info_output = buffer.getvalue()\n",
    "        print(info_output)\n",
    "        print('-'*100)\n",
    "        \n",
    "    # return datasets \n",
    "    return sales_pipeline"
   ]
  },
  {
   "cell_type": "code",
   "execution_count": 14,
   "id": "08926346",
   "metadata": {},
   "outputs": [
    {
     "name": "stdout",
     "output_type": "stream",
     "text": [
      "----------------------------------------------------------------------------------------------------\n",
      "DATASETS CREATED\n",
      "----------------------------------------------------------------------------------------------------\n",
      "\n",
      "SALES_PIPELINE DATASET:\n",
      "Shape: 322 rows × 9 columns\n",
      "\n",
      "Column information:\n",
      "<class 'pandas.core.frame.DataFrame'>\n",
      "RangeIndex: 322 entries, 0 to 321\n",
      "Data columns (total 9 columns):\n",
      " #   Column                Non-Null Count  Dtype              \n",
      "---  ------                --------------  -----              \n",
      " 0   deal_id               322 non-null    int64              \n",
      " 1   owner_id              322 non-null    int64              \n",
      " 2   deal_amount           279 non-null    float64            \n",
      " 3   weighted_deal_amount  279 non-null    float64            \n",
      " 4   create_date           322 non-null    datetime64[ns, UTC]\n",
      " 5   close_date            322 non-null    datetime64[ns, UTC]\n",
      " 6   deal_name_anon        322 non-null    object             \n",
      " 7   pipeline_stage        322 non-null    object             \n",
      " 8   pipeline_stage_order  322 non-null    int64              \n",
      "dtypes: datetime64[ns, UTC](2), float64(2), int64(3), object(2)\n",
      "memory usage: 22.8+ KB\n",
      "\n",
      "----------------------------------------------------------------------------------------------------\n"
     ]
    }
   ],
   "source": [
    "sales_pipeline = process_data(df1, df9)"
   ]
  },
  {
   "cell_type": "markdown",
   "id": "0909ef53",
   "metadata": {},
   "source": [
    "## Plot sales funnel "
   ]
  },
  {
   "cell_type": "code",
   "execution_count": 15,
   "id": "3c4605cc",
   "metadata": {},
   "outputs": [],
   "source": [
    "# first version only with weighted amount filter \n",
    "def sales_funnel_viz(df, weighted_amount=True):\n",
    "    \"\"\"\n",
    "    Sales funnel visualization using Plotly\n",
    "    \n",
    "    Arguments:\n",
    "    df (DataFrame): Sales pipeline dataframe\n",
    "    weighted_amount (bool): If True, use weighted_deal_amount, otherwise use deal_amount\n",
    "    \n",
    "    Returns:\n",
    "    None: Displays the plotly figure\n",
    "    \"\"\"\n",
    "    # select the appropriate amount column based on the parameter\n",
    "    amount_col = 'weighted_deal_amount' if weighted_amount else 'deal_amount'\n",
    "    amount_title = 'Weighted Deal Amount' if weighted_amount else 'Deal Amount'\n",
    "    \n",
    "    # group data by pipeline stage\n",
    "    funnel_data = df.groupby(['pipeline_stage_order', 'pipeline_stage']).agg(\n",
    "        amount=(amount_col, 'sum'),\n",
    "        deal_count=('deal_id', 'count')\n",
    "    ).reset_index().sort_values('pipeline_stage_order')\n",
    "    \n",
    "    # create stage labels\n",
    "    funnel_data['stage_label'] = funnel_data.apply(\n",
    "        lambda x: f\"Stage {int(x['pipeline_stage_order'])}: {x['pipeline_stage']}\", axis=1\n",
    "    )\n",
    "    \n",
    "    # format amount for hover text\n",
    "    funnel_data['amount_fmt'] = funnel_data['amount'].apply(lambda x: f\"{x:,.2f} SEK\")\n",
    "    \n",
    "    # create hover text\n",
    "    funnel_data['hover_text'] = funnel_data.apply(\n",
    "        lambda x: f\"<b>{x['stage_label']}</b><br>\" +\n",
    "                 f\"{amount_title}: {x['amount_fmt']}<br>\" +\n",
    "                 f\"Number of Deals: {x['deal_count']}\", \n",
    "        axis=1\n",
    "    )\n",
    "    \n",
    "    # create funnel chart\n",
    "    fig = go.Figure()\n",
    "    fig.add_trace(go.Funnel(\n",
    "        name='Sales Funnel',\n",
    "        y=funnel_data['stage_label'],\n",
    "        x=funnel_data['amount'],\n",
    "        textposition=\"inside\",\n",
    "        textinfo=\"value+percent initial\",\n",
    "        opacity=0.7,\n",
    "        marker={\n",
    "            \"color\": [\"#1f77b4\", \"#7fc3e5\", \"#4292c6\", \"#2171b5\", \"#08519c\"][:len(funnel_data)],\n",
    "            \"line\": {\"width\": [1] * len(funnel_data), \"color\": [\"white\"] * len(funnel_data)}\n",
    "        },\n",
    "        hovertext=funnel_data['hover_text'],\n",
    "        hoverinfo='text'\n",
    "    ))\n",
    "    \n",
    "    # add title and labels\n",
    "    fig.update_layout(\n",
    "        title={\n",
    "            'text': f'Sales Pipeline Funnel ({amount_title})',\n",
    "            'y': 0.95,\n",
    "            'x': 0.5,\n",
    "            'xanchor': 'center',\n",
    "            'yanchor': 'top',\n",
    "        },\n",
    "        height=500,\n",
    "        width=800\n",
    "    )\n",
    "    fig.show()\n",
    "    \n",
    "    # display a summary table\n",
    "    print(f\"\\nSales Funnel Summary ({amount_title}):\")\n",
    "    summary_df = funnel_data[['stage_label', 'deal_count', 'amount_fmt']]\n",
    "    summary_df.columns = ['Stage', 'Deal Count', f'{amount_title} (SEK)']\n",
    "    display(summary_df)"
   ]
  },
  {
   "cell_type": "code",
   "execution_count": 16,
   "id": "8794d73e",
   "metadata": {},
   "outputs": [
    {
     "data": {
      "application/vnd.plotly.v1+json": {
       "config": {
        "plotlyServerURL": "https://plot.ly"
       },
       "data": [
        {
         "hoverinfo": "text",
         "hovertext": [
          "<b>Stage 0: Lead</b><br>Weighted Deal Amount: 90,050.00 SEK<br>Number of Deals: 4",
          "<b>Stage 1: Qualification</b><br>Weighted Deal Amount: 438,000.00 SEK<br>Number of Deals: 5",
          "<b>Stage 3: Proposal</b><br>Weighted Deal Amount: 420,000.00 SEK<br>Number of Deals: 2",
          "<b>Stage 4: Closed Won</b><br>Weighted Deal Amount: 54,715,400.00 SEK<br>Number of Deals: 93",
          "<b>Stage 5: Closed Lost</b><br>Weighted Deal Amount: 0.00 SEK<br>Number of Deals: 218"
         ],
         "marker": {
          "color": [
           "#1f77b4",
           "#7fc3e5",
           "#4292c6",
           "#2171b5",
           "#08519c"
          ],
          "line": {
           "color": [
            "white",
            "white",
            "white",
            "white",
            "white"
           ],
           "width": [
            1,
            1,
            1,
            1,
            1
           ]
          }
         },
         "name": "Sales Funnel",
         "opacity": 0.7,
         "textinfo": "value+percent initial",
         "textposition": "inside",
         "type": "funnel",
         "x": [
          90050,
          438000,
          420000,
          54715400,
          0
         ],
         "y": [
          "Stage 0: Lead",
          "Stage 1: Qualification",
          "Stage 3: Proposal",
          "Stage 4: Closed Won",
          "Stage 5: Closed Lost"
         ]
        }
       ],
       "layout": {
        "height": 500,
        "template": {
         "data": {
          "bar": [
           {
            "error_x": {
             "color": "#2a3f5f"
            },
            "error_y": {
             "color": "#2a3f5f"
            },
            "marker": {
             "line": {
              "color": "#E5ECF6",
              "width": 0.5
             },
             "pattern": {
              "fillmode": "overlay",
              "size": 10,
              "solidity": 0.2
             }
            },
            "type": "bar"
           }
          ],
          "barpolar": [
           {
            "marker": {
             "line": {
              "color": "#E5ECF6",
              "width": 0.5
             },
             "pattern": {
              "fillmode": "overlay",
              "size": 10,
              "solidity": 0.2
             }
            },
            "type": "barpolar"
           }
          ],
          "carpet": [
           {
            "aaxis": {
             "endlinecolor": "#2a3f5f",
             "gridcolor": "white",
             "linecolor": "white",
             "minorgridcolor": "white",
             "startlinecolor": "#2a3f5f"
            },
            "baxis": {
             "endlinecolor": "#2a3f5f",
             "gridcolor": "white",
             "linecolor": "white",
             "minorgridcolor": "white",
             "startlinecolor": "#2a3f5f"
            },
            "type": "carpet"
           }
          ],
          "choropleth": [
           {
            "colorbar": {
             "outlinewidth": 0,
             "ticks": ""
            },
            "type": "choropleth"
           }
          ],
          "contour": [
           {
            "colorbar": {
             "outlinewidth": 0,
             "ticks": ""
            },
            "colorscale": [
             [
              0,
              "#0d0887"
             ],
             [
              0.1111111111111111,
              "#46039f"
             ],
             [
              0.2222222222222222,
              "#7201a8"
             ],
             [
              0.3333333333333333,
              "#9c179e"
             ],
             [
              0.4444444444444444,
              "#bd3786"
             ],
             [
              0.5555555555555556,
              "#d8576b"
             ],
             [
              0.6666666666666666,
              "#ed7953"
             ],
             [
              0.7777777777777778,
              "#fb9f3a"
             ],
             [
              0.8888888888888888,
              "#fdca26"
             ],
             [
              1,
              "#f0f921"
             ]
            ],
            "type": "contour"
           }
          ],
          "contourcarpet": [
           {
            "colorbar": {
             "outlinewidth": 0,
             "ticks": ""
            },
            "type": "contourcarpet"
           }
          ],
          "heatmap": [
           {
            "colorbar": {
             "outlinewidth": 0,
             "ticks": ""
            },
            "colorscale": [
             [
              0,
              "#0d0887"
             ],
             [
              0.1111111111111111,
              "#46039f"
             ],
             [
              0.2222222222222222,
              "#7201a8"
             ],
             [
              0.3333333333333333,
              "#9c179e"
             ],
             [
              0.4444444444444444,
              "#bd3786"
             ],
             [
              0.5555555555555556,
              "#d8576b"
             ],
             [
              0.6666666666666666,
              "#ed7953"
             ],
             [
              0.7777777777777778,
              "#fb9f3a"
             ],
             [
              0.8888888888888888,
              "#fdca26"
             ],
             [
              1,
              "#f0f921"
             ]
            ],
            "type": "heatmap"
           }
          ],
          "heatmapgl": [
           {
            "colorbar": {
             "outlinewidth": 0,
             "ticks": ""
            },
            "colorscale": [
             [
              0,
              "#0d0887"
             ],
             [
              0.1111111111111111,
              "#46039f"
             ],
             [
              0.2222222222222222,
              "#7201a8"
             ],
             [
              0.3333333333333333,
              "#9c179e"
             ],
             [
              0.4444444444444444,
              "#bd3786"
             ],
             [
              0.5555555555555556,
              "#d8576b"
             ],
             [
              0.6666666666666666,
              "#ed7953"
             ],
             [
              0.7777777777777778,
              "#fb9f3a"
             ],
             [
              0.8888888888888888,
              "#fdca26"
             ],
             [
              1,
              "#f0f921"
             ]
            ],
            "type": "heatmapgl"
           }
          ],
          "histogram": [
           {
            "marker": {
             "pattern": {
              "fillmode": "overlay",
              "size": 10,
              "solidity": 0.2
             }
            },
            "type": "histogram"
           }
          ],
          "histogram2d": [
           {
            "colorbar": {
             "outlinewidth": 0,
             "ticks": ""
            },
            "colorscale": [
             [
              0,
              "#0d0887"
             ],
             [
              0.1111111111111111,
              "#46039f"
             ],
             [
              0.2222222222222222,
              "#7201a8"
             ],
             [
              0.3333333333333333,
              "#9c179e"
             ],
             [
              0.4444444444444444,
              "#bd3786"
             ],
             [
              0.5555555555555556,
              "#d8576b"
             ],
             [
              0.6666666666666666,
              "#ed7953"
             ],
             [
              0.7777777777777778,
              "#fb9f3a"
             ],
             [
              0.8888888888888888,
              "#fdca26"
             ],
             [
              1,
              "#f0f921"
             ]
            ],
            "type": "histogram2d"
           }
          ],
          "histogram2dcontour": [
           {
            "colorbar": {
             "outlinewidth": 0,
             "ticks": ""
            },
            "colorscale": [
             [
              0,
              "#0d0887"
             ],
             [
              0.1111111111111111,
              "#46039f"
             ],
             [
              0.2222222222222222,
              "#7201a8"
             ],
             [
              0.3333333333333333,
              "#9c179e"
             ],
             [
              0.4444444444444444,
              "#bd3786"
             ],
             [
              0.5555555555555556,
              "#d8576b"
             ],
             [
              0.6666666666666666,
              "#ed7953"
             ],
             [
              0.7777777777777778,
              "#fb9f3a"
             ],
             [
              0.8888888888888888,
              "#fdca26"
             ],
             [
              1,
              "#f0f921"
             ]
            ],
            "type": "histogram2dcontour"
           }
          ],
          "mesh3d": [
           {
            "colorbar": {
             "outlinewidth": 0,
             "ticks": ""
            },
            "type": "mesh3d"
           }
          ],
          "parcoords": [
           {
            "line": {
             "colorbar": {
              "outlinewidth": 0,
              "ticks": ""
             }
            },
            "type": "parcoords"
           }
          ],
          "pie": [
           {
            "automargin": true,
            "type": "pie"
           }
          ],
          "scatter": [
           {
            "fillpattern": {
             "fillmode": "overlay",
             "size": 10,
             "solidity": 0.2
            },
            "type": "scatter"
           }
          ],
          "scatter3d": [
           {
            "line": {
             "colorbar": {
              "outlinewidth": 0,
              "ticks": ""
             }
            },
            "marker": {
             "colorbar": {
              "outlinewidth": 0,
              "ticks": ""
             }
            },
            "type": "scatter3d"
           }
          ],
          "scattercarpet": [
           {
            "marker": {
             "colorbar": {
              "outlinewidth": 0,
              "ticks": ""
             }
            },
            "type": "scattercarpet"
           }
          ],
          "scattergeo": [
           {
            "marker": {
             "colorbar": {
              "outlinewidth": 0,
              "ticks": ""
             }
            },
            "type": "scattergeo"
           }
          ],
          "scattergl": [
           {
            "marker": {
             "colorbar": {
              "outlinewidth": 0,
              "ticks": ""
             }
            },
            "type": "scattergl"
           }
          ],
          "scattermapbox": [
           {
            "marker": {
             "colorbar": {
              "outlinewidth": 0,
              "ticks": ""
             }
            },
            "type": "scattermapbox"
           }
          ],
          "scatterpolar": [
           {
            "marker": {
             "colorbar": {
              "outlinewidth": 0,
              "ticks": ""
             }
            },
            "type": "scatterpolar"
           }
          ],
          "scatterpolargl": [
           {
            "marker": {
             "colorbar": {
              "outlinewidth": 0,
              "ticks": ""
             }
            },
            "type": "scatterpolargl"
           }
          ],
          "scatterternary": [
           {
            "marker": {
             "colorbar": {
              "outlinewidth": 0,
              "ticks": ""
             }
            },
            "type": "scatterternary"
           }
          ],
          "surface": [
           {
            "colorbar": {
             "outlinewidth": 0,
             "ticks": ""
            },
            "colorscale": [
             [
              0,
              "#0d0887"
             ],
             [
              0.1111111111111111,
              "#46039f"
             ],
             [
              0.2222222222222222,
              "#7201a8"
             ],
             [
              0.3333333333333333,
              "#9c179e"
             ],
             [
              0.4444444444444444,
              "#bd3786"
             ],
             [
              0.5555555555555556,
              "#d8576b"
             ],
             [
              0.6666666666666666,
              "#ed7953"
             ],
             [
              0.7777777777777778,
              "#fb9f3a"
             ],
             [
              0.8888888888888888,
              "#fdca26"
             ],
             [
              1,
              "#f0f921"
             ]
            ],
            "type": "surface"
           }
          ],
          "table": [
           {
            "cells": {
             "fill": {
              "color": "#EBF0F8"
             },
             "line": {
              "color": "white"
             }
            },
            "header": {
             "fill": {
              "color": "#C8D4E3"
             },
             "line": {
              "color": "white"
             }
            },
            "type": "table"
           }
          ]
         },
         "layout": {
          "annotationdefaults": {
           "arrowcolor": "#2a3f5f",
           "arrowhead": 0,
           "arrowwidth": 1
          },
          "autotypenumbers": "strict",
          "coloraxis": {
           "colorbar": {
            "outlinewidth": 0,
            "ticks": ""
           }
          },
          "colorscale": {
           "diverging": [
            [
             0,
             "#8e0152"
            ],
            [
             0.1,
             "#c51b7d"
            ],
            [
             0.2,
             "#de77ae"
            ],
            [
             0.3,
             "#f1b6da"
            ],
            [
             0.4,
             "#fde0ef"
            ],
            [
             0.5,
             "#f7f7f7"
            ],
            [
             0.6,
             "#e6f5d0"
            ],
            [
             0.7,
             "#b8e186"
            ],
            [
             0.8,
             "#7fbc41"
            ],
            [
             0.9,
             "#4d9221"
            ],
            [
             1,
             "#276419"
            ]
           ],
           "sequential": [
            [
             0,
             "#0d0887"
            ],
            [
             0.1111111111111111,
             "#46039f"
            ],
            [
             0.2222222222222222,
             "#7201a8"
            ],
            [
             0.3333333333333333,
             "#9c179e"
            ],
            [
             0.4444444444444444,
             "#bd3786"
            ],
            [
             0.5555555555555556,
             "#d8576b"
            ],
            [
             0.6666666666666666,
             "#ed7953"
            ],
            [
             0.7777777777777778,
             "#fb9f3a"
            ],
            [
             0.8888888888888888,
             "#fdca26"
            ],
            [
             1,
             "#f0f921"
            ]
           ],
           "sequentialminus": [
            [
             0,
             "#0d0887"
            ],
            [
             0.1111111111111111,
             "#46039f"
            ],
            [
             0.2222222222222222,
             "#7201a8"
            ],
            [
             0.3333333333333333,
             "#9c179e"
            ],
            [
             0.4444444444444444,
             "#bd3786"
            ],
            [
             0.5555555555555556,
             "#d8576b"
            ],
            [
             0.6666666666666666,
             "#ed7953"
            ],
            [
             0.7777777777777778,
             "#fb9f3a"
            ],
            [
             0.8888888888888888,
             "#fdca26"
            ],
            [
             1,
             "#f0f921"
            ]
           ]
          },
          "colorway": [
           "#636efa",
           "#EF553B",
           "#00cc96",
           "#ab63fa",
           "#FFA15A",
           "#19d3f3",
           "#FF6692",
           "#B6E880",
           "#FF97FF",
           "#FECB52"
          ],
          "font": {
           "color": "#2a3f5f"
          },
          "geo": {
           "bgcolor": "white",
           "lakecolor": "white",
           "landcolor": "#E5ECF6",
           "showlakes": true,
           "showland": true,
           "subunitcolor": "white"
          },
          "hoverlabel": {
           "align": "left"
          },
          "hovermode": "closest",
          "mapbox": {
           "style": "light"
          },
          "paper_bgcolor": "white",
          "plot_bgcolor": "#E5ECF6",
          "polar": {
           "angularaxis": {
            "gridcolor": "white",
            "linecolor": "white",
            "ticks": ""
           },
           "bgcolor": "#E5ECF6",
           "radialaxis": {
            "gridcolor": "white",
            "linecolor": "white",
            "ticks": ""
           }
          },
          "scene": {
           "xaxis": {
            "backgroundcolor": "#E5ECF6",
            "gridcolor": "white",
            "gridwidth": 2,
            "linecolor": "white",
            "showbackground": true,
            "ticks": "",
            "zerolinecolor": "white"
           },
           "yaxis": {
            "backgroundcolor": "#E5ECF6",
            "gridcolor": "white",
            "gridwidth": 2,
            "linecolor": "white",
            "showbackground": true,
            "ticks": "",
            "zerolinecolor": "white"
           },
           "zaxis": {
            "backgroundcolor": "#E5ECF6",
            "gridcolor": "white",
            "gridwidth": 2,
            "linecolor": "white",
            "showbackground": true,
            "ticks": "",
            "zerolinecolor": "white"
           }
          },
          "shapedefaults": {
           "line": {
            "color": "#2a3f5f"
           }
          },
          "ternary": {
           "aaxis": {
            "gridcolor": "white",
            "linecolor": "white",
            "ticks": ""
           },
           "baxis": {
            "gridcolor": "white",
            "linecolor": "white",
            "ticks": ""
           },
           "bgcolor": "#E5ECF6",
           "caxis": {
            "gridcolor": "white",
            "linecolor": "white",
            "ticks": ""
           }
          },
          "title": {
           "x": 0.05
          },
          "xaxis": {
           "automargin": true,
           "gridcolor": "white",
           "linecolor": "white",
           "ticks": "",
           "title": {
            "standoff": 15
           },
           "zerolinecolor": "white",
           "zerolinewidth": 2
          },
          "yaxis": {
           "automargin": true,
           "gridcolor": "white",
           "linecolor": "white",
           "ticks": "",
           "title": {
            "standoff": 15
           },
           "zerolinecolor": "white",
           "zerolinewidth": 2
          }
         }
        },
        "title": {
         "text": "Sales Pipeline Funnel (Weighted Deal Amount)",
         "x": 0.5,
         "xanchor": "center",
         "y": 0.95,
         "yanchor": "top"
        },
        "width": 800
       }
      }
     },
     "metadata": {},
     "output_type": "display_data"
    },
    {
     "name": "stdout",
     "output_type": "stream",
     "text": [
      "\n",
      "Sales Funnel Summary (Weighted Deal Amount):\n"
     ]
    },
    {
     "data": {
      "text/html": [
       "<div>\n",
       "<style scoped>\n",
       "    .dataframe tbody tr th:only-of-type {\n",
       "        vertical-align: middle;\n",
       "    }\n",
       "\n",
       "    .dataframe tbody tr th {\n",
       "        vertical-align: top;\n",
       "    }\n",
       "\n",
       "    .dataframe thead th {\n",
       "        text-align: right;\n",
       "    }\n",
       "</style>\n",
       "<table border=\"1\" class=\"dataframe\">\n",
       "  <thead>\n",
       "    <tr style=\"text-align: right;\">\n",
       "      <th></th>\n",
       "      <th>Stage</th>\n",
       "      <th>Deal Count</th>\n",
       "      <th>Weighted Deal Amount (SEK)</th>\n",
       "    </tr>\n",
       "  </thead>\n",
       "  <tbody>\n",
       "    <tr>\n",
       "      <th>0</th>\n",
       "      <td>Stage 0: Lead</td>\n",
       "      <td>4</td>\n",
       "      <td>90,050.00 SEK</td>\n",
       "    </tr>\n",
       "    <tr>\n",
       "      <th>1</th>\n",
       "      <td>Stage 1: Qualification</td>\n",
       "      <td>5</td>\n",
       "      <td>438,000.00 SEK</td>\n",
       "    </tr>\n",
       "    <tr>\n",
       "      <th>2</th>\n",
       "      <td>Stage 3: Proposal</td>\n",
       "      <td>2</td>\n",
       "      <td>420,000.00 SEK</td>\n",
       "    </tr>\n",
       "    <tr>\n",
       "      <th>3</th>\n",
       "      <td>Stage 4: Closed Won</td>\n",
       "      <td>93</td>\n",
       "      <td>54,715,400.00 SEK</td>\n",
       "    </tr>\n",
       "    <tr>\n",
       "      <th>4</th>\n",
       "      <td>Stage 5: Closed Lost</td>\n",
       "      <td>218</td>\n",
       "      <td>0.00 SEK</td>\n",
       "    </tr>\n",
       "  </tbody>\n",
       "</table>\n",
       "</div>"
      ],
      "text/plain": [
       "                    Stage  Deal Count Weighted Deal Amount (SEK)\n",
       "0           Stage 0: Lead           4              90,050.00 SEK\n",
       "1  Stage 1: Qualification           5             438,000.00 SEK\n",
       "2       Stage 3: Proposal           2             420,000.00 SEK\n",
       "3     Stage 4: Closed Won          93          54,715,400.00 SEK\n",
       "4    Stage 5: Closed Lost         218                   0.00 SEK"
      ]
     },
     "metadata": {},
     "output_type": "display_data"
    },
    {
     "data": {
      "application/vnd.plotly.v1+json": {
       "config": {
        "plotlyServerURL": "https://plot.ly"
       },
       "data": [
        {
         "hoverinfo": "text",
         "hovertext": [
          "<b>Stage 0: Lead</b><br>Deal Amount: 900,500.00 SEK<br>Number of Deals: 4",
          "<b>Stage 1: Qualification</b><br>Deal Amount: 2,190,000.00 SEK<br>Number of Deals: 5",
          "<b>Stage 3: Proposal</b><br>Deal Amount: 700,000.00 SEK<br>Number of Deals: 2",
          "<b>Stage 4: Closed Won</b><br>Deal Amount: 54,715,400.00 SEK<br>Number of Deals: 93",
          "<b>Stage 5: Closed Lost</b><br>Deal Amount: 106,954,002.00 SEK<br>Number of Deals: 218"
         ],
         "marker": {
          "color": [
           "#1f77b4",
           "#7fc3e5",
           "#4292c6",
           "#2171b5",
           "#08519c"
          ],
          "line": {
           "color": [
            "white",
            "white",
            "white",
            "white",
            "white"
           ],
           "width": [
            1,
            1,
            1,
            1,
            1
           ]
          }
         },
         "name": "Sales Funnel",
         "opacity": 0.7,
         "textinfo": "value+percent initial",
         "textposition": "inside",
         "type": "funnel",
         "x": [
          900500,
          2190000,
          700000,
          54715400,
          106954002
         ],
         "y": [
          "Stage 0: Lead",
          "Stage 1: Qualification",
          "Stage 3: Proposal",
          "Stage 4: Closed Won",
          "Stage 5: Closed Lost"
         ]
        }
       ],
       "layout": {
        "height": 500,
        "template": {
         "data": {
          "bar": [
           {
            "error_x": {
             "color": "#2a3f5f"
            },
            "error_y": {
             "color": "#2a3f5f"
            },
            "marker": {
             "line": {
              "color": "#E5ECF6",
              "width": 0.5
             },
             "pattern": {
              "fillmode": "overlay",
              "size": 10,
              "solidity": 0.2
             }
            },
            "type": "bar"
           }
          ],
          "barpolar": [
           {
            "marker": {
             "line": {
              "color": "#E5ECF6",
              "width": 0.5
             },
             "pattern": {
              "fillmode": "overlay",
              "size": 10,
              "solidity": 0.2
             }
            },
            "type": "barpolar"
           }
          ],
          "carpet": [
           {
            "aaxis": {
             "endlinecolor": "#2a3f5f",
             "gridcolor": "white",
             "linecolor": "white",
             "minorgridcolor": "white",
             "startlinecolor": "#2a3f5f"
            },
            "baxis": {
             "endlinecolor": "#2a3f5f",
             "gridcolor": "white",
             "linecolor": "white",
             "minorgridcolor": "white",
             "startlinecolor": "#2a3f5f"
            },
            "type": "carpet"
           }
          ],
          "choropleth": [
           {
            "colorbar": {
             "outlinewidth": 0,
             "ticks": ""
            },
            "type": "choropleth"
           }
          ],
          "contour": [
           {
            "colorbar": {
             "outlinewidth": 0,
             "ticks": ""
            },
            "colorscale": [
             [
              0,
              "#0d0887"
             ],
             [
              0.1111111111111111,
              "#46039f"
             ],
             [
              0.2222222222222222,
              "#7201a8"
             ],
             [
              0.3333333333333333,
              "#9c179e"
             ],
             [
              0.4444444444444444,
              "#bd3786"
             ],
             [
              0.5555555555555556,
              "#d8576b"
             ],
             [
              0.6666666666666666,
              "#ed7953"
             ],
             [
              0.7777777777777778,
              "#fb9f3a"
             ],
             [
              0.8888888888888888,
              "#fdca26"
             ],
             [
              1,
              "#f0f921"
             ]
            ],
            "type": "contour"
           }
          ],
          "contourcarpet": [
           {
            "colorbar": {
             "outlinewidth": 0,
             "ticks": ""
            },
            "type": "contourcarpet"
           }
          ],
          "heatmap": [
           {
            "colorbar": {
             "outlinewidth": 0,
             "ticks": ""
            },
            "colorscale": [
             [
              0,
              "#0d0887"
             ],
             [
              0.1111111111111111,
              "#46039f"
             ],
             [
              0.2222222222222222,
              "#7201a8"
             ],
             [
              0.3333333333333333,
              "#9c179e"
             ],
             [
              0.4444444444444444,
              "#bd3786"
             ],
             [
              0.5555555555555556,
              "#d8576b"
             ],
             [
              0.6666666666666666,
              "#ed7953"
             ],
             [
              0.7777777777777778,
              "#fb9f3a"
             ],
             [
              0.8888888888888888,
              "#fdca26"
             ],
             [
              1,
              "#f0f921"
             ]
            ],
            "type": "heatmap"
           }
          ],
          "heatmapgl": [
           {
            "colorbar": {
             "outlinewidth": 0,
             "ticks": ""
            },
            "colorscale": [
             [
              0,
              "#0d0887"
             ],
             [
              0.1111111111111111,
              "#46039f"
             ],
             [
              0.2222222222222222,
              "#7201a8"
             ],
             [
              0.3333333333333333,
              "#9c179e"
             ],
             [
              0.4444444444444444,
              "#bd3786"
             ],
             [
              0.5555555555555556,
              "#d8576b"
             ],
             [
              0.6666666666666666,
              "#ed7953"
             ],
             [
              0.7777777777777778,
              "#fb9f3a"
             ],
             [
              0.8888888888888888,
              "#fdca26"
             ],
             [
              1,
              "#f0f921"
             ]
            ],
            "type": "heatmapgl"
           }
          ],
          "histogram": [
           {
            "marker": {
             "pattern": {
              "fillmode": "overlay",
              "size": 10,
              "solidity": 0.2
             }
            },
            "type": "histogram"
           }
          ],
          "histogram2d": [
           {
            "colorbar": {
             "outlinewidth": 0,
             "ticks": ""
            },
            "colorscale": [
             [
              0,
              "#0d0887"
             ],
             [
              0.1111111111111111,
              "#46039f"
             ],
             [
              0.2222222222222222,
              "#7201a8"
             ],
             [
              0.3333333333333333,
              "#9c179e"
             ],
             [
              0.4444444444444444,
              "#bd3786"
             ],
             [
              0.5555555555555556,
              "#d8576b"
             ],
             [
              0.6666666666666666,
              "#ed7953"
             ],
             [
              0.7777777777777778,
              "#fb9f3a"
             ],
             [
              0.8888888888888888,
              "#fdca26"
             ],
             [
              1,
              "#f0f921"
             ]
            ],
            "type": "histogram2d"
           }
          ],
          "histogram2dcontour": [
           {
            "colorbar": {
             "outlinewidth": 0,
             "ticks": ""
            },
            "colorscale": [
             [
              0,
              "#0d0887"
             ],
             [
              0.1111111111111111,
              "#46039f"
             ],
             [
              0.2222222222222222,
              "#7201a8"
             ],
             [
              0.3333333333333333,
              "#9c179e"
             ],
             [
              0.4444444444444444,
              "#bd3786"
             ],
             [
              0.5555555555555556,
              "#d8576b"
             ],
             [
              0.6666666666666666,
              "#ed7953"
             ],
             [
              0.7777777777777778,
              "#fb9f3a"
             ],
             [
              0.8888888888888888,
              "#fdca26"
             ],
             [
              1,
              "#f0f921"
             ]
            ],
            "type": "histogram2dcontour"
           }
          ],
          "mesh3d": [
           {
            "colorbar": {
             "outlinewidth": 0,
             "ticks": ""
            },
            "type": "mesh3d"
           }
          ],
          "parcoords": [
           {
            "line": {
             "colorbar": {
              "outlinewidth": 0,
              "ticks": ""
             }
            },
            "type": "parcoords"
           }
          ],
          "pie": [
           {
            "automargin": true,
            "type": "pie"
           }
          ],
          "scatter": [
           {
            "fillpattern": {
             "fillmode": "overlay",
             "size": 10,
             "solidity": 0.2
            },
            "type": "scatter"
           }
          ],
          "scatter3d": [
           {
            "line": {
             "colorbar": {
              "outlinewidth": 0,
              "ticks": ""
             }
            },
            "marker": {
             "colorbar": {
              "outlinewidth": 0,
              "ticks": ""
             }
            },
            "type": "scatter3d"
           }
          ],
          "scattercarpet": [
           {
            "marker": {
             "colorbar": {
              "outlinewidth": 0,
              "ticks": ""
             }
            },
            "type": "scattercarpet"
           }
          ],
          "scattergeo": [
           {
            "marker": {
             "colorbar": {
              "outlinewidth": 0,
              "ticks": ""
             }
            },
            "type": "scattergeo"
           }
          ],
          "scattergl": [
           {
            "marker": {
             "colorbar": {
              "outlinewidth": 0,
              "ticks": ""
             }
            },
            "type": "scattergl"
           }
          ],
          "scattermapbox": [
           {
            "marker": {
             "colorbar": {
              "outlinewidth": 0,
              "ticks": ""
             }
            },
            "type": "scattermapbox"
           }
          ],
          "scatterpolar": [
           {
            "marker": {
             "colorbar": {
              "outlinewidth": 0,
              "ticks": ""
             }
            },
            "type": "scatterpolar"
           }
          ],
          "scatterpolargl": [
           {
            "marker": {
             "colorbar": {
              "outlinewidth": 0,
              "ticks": ""
             }
            },
            "type": "scatterpolargl"
           }
          ],
          "scatterternary": [
           {
            "marker": {
             "colorbar": {
              "outlinewidth": 0,
              "ticks": ""
             }
            },
            "type": "scatterternary"
           }
          ],
          "surface": [
           {
            "colorbar": {
             "outlinewidth": 0,
             "ticks": ""
            },
            "colorscale": [
             [
              0,
              "#0d0887"
             ],
             [
              0.1111111111111111,
              "#46039f"
             ],
             [
              0.2222222222222222,
              "#7201a8"
             ],
             [
              0.3333333333333333,
              "#9c179e"
             ],
             [
              0.4444444444444444,
              "#bd3786"
             ],
             [
              0.5555555555555556,
              "#d8576b"
             ],
             [
              0.6666666666666666,
              "#ed7953"
             ],
             [
              0.7777777777777778,
              "#fb9f3a"
             ],
             [
              0.8888888888888888,
              "#fdca26"
             ],
             [
              1,
              "#f0f921"
             ]
            ],
            "type": "surface"
           }
          ],
          "table": [
           {
            "cells": {
             "fill": {
              "color": "#EBF0F8"
             },
             "line": {
              "color": "white"
             }
            },
            "header": {
             "fill": {
              "color": "#C8D4E3"
             },
             "line": {
              "color": "white"
             }
            },
            "type": "table"
           }
          ]
         },
         "layout": {
          "annotationdefaults": {
           "arrowcolor": "#2a3f5f",
           "arrowhead": 0,
           "arrowwidth": 1
          },
          "autotypenumbers": "strict",
          "coloraxis": {
           "colorbar": {
            "outlinewidth": 0,
            "ticks": ""
           }
          },
          "colorscale": {
           "diverging": [
            [
             0,
             "#8e0152"
            ],
            [
             0.1,
             "#c51b7d"
            ],
            [
             0.2,
             "#de77ae"
            ],
            [
             0.3,
             "#f1b6da"
            ],
            [
             0.4,
             "#fde0ef"
            ],
            [
             0.5,
             "#f7f7f7"
            ],
            [
             0.6,
             "#e6f5d0"
            ],
            [
             0.7,
             "#b8e186"
            ],
            [
             0.8,
             "#7fbc41"
            ],
            [
             0.9,
             "#4d9221"
            ],
            [
             1,
             "#276419"
            ]
           ],
           "sequential": [
            [
             0,
             "#0d0887"
            ],
            [
             0.1111111111111111,
             "#46039f"
            ],
            [
             0.2222222222222222,
             "#7201a8"
            ],
            [
             0.3333333333333333,
             "#9c179e"
            ],
            [
             0.4444444444444444,
             "#bd3786"
            ],
            [
             0.5555555555555556,
             "#d8576b"
            ],
            [
             0.6666666666666666,
             "#ed7953"
            ],
            [
             0.7777777777777778,
             "#fb9f3a"
            ],
            [
             0.8888888888888888,
             "#fdca26"
            ],
            [
             1,
             "#f0f921"
            ]
           ],
           "sequentialminus": [
            [
             0,
             "#0d0887"
            ],
            [
             0.1111111111111111,
             "#46039f"
            ],
            [
             0.2222222222222222,
             "#7201a8"
            ],
            [
             0.3333333333333333,
             "#9c179e"
            ],
            [
             0.4444444444444444,
             "#bd3786"
            ],
            [
             0.5555555555555556,
             "#d8576b"
            ],
            [
             0.6666666666666666,
             "#ed7953"
            ],
            [
             0.7777777777777778,
             "#fb9f3a"
            ],
            [
             0.8888888888888888,
             "#fdca26"
            ],
            [
             1,
             "#f0f921"
            ]
           ]
          },
          "colorway": [
           "#636efa",
           "#EF553B",
           "#00cc96",
           "#ab63fa",
           "#FFA15A",
           "#19d3f3",
           "#FF6692",
           "#B6E880",
           "#FF97FF",
           "#FECB52"
          ],
          "font": {
           "color": "#2a3f5f"
          },
          "geo": {
           "bgcolor": "white",
           "lakecolor": "white",
           "landcolor": "#E5ECF6",
           "showlakes": true,
           "showland": true,
           "subunitcolor": "white"
          },
          "hoverlabel": {
           "align": "left"
          },
          "hovermode": "closest",
          "mapbox": {
           "style": "light"
          },
          "paper_bgcolor": "white",
          "plot_bgcolor": "#E5ECF6",
          "polar": {
           "angularaxis": {
            "gridcolor": "white",
            "linecolor": "white",
            "ticks": ""
           },
           "bgcolor": "#E5ECF6",
           "radialaxis": {
            "gridcolor": "white",
            "linecolor": "white",
            "ticks": ""
           }
          },
          "scene": {
           "xaxis": {
            "backgroundcolor": "#E5ECF6",
            "gridcolor": "white",
            "gridwidth": 2,
            "linecolor": "white",
            "showbackground": true,
            "ticks": "",
            "zerolinecolor": "white"
           },
           "yaxis": {
            "backgroundcolor": "#E5ECF6",
            "gridcolor": "white",
            "gridwidth": 2,
            "linecolor": "white",
            "showbackground": true,
            "ticks": "",
            "zerolinecolor": "white"
           },
           "zaxis": {
            "backgroundcolor": "#E5ECF6",
            "gridcolor": "white",
            "gridwidth": 2,
            "linecolor": "white",
            "showbackground": true,
            "ticks": "",
            "zerolinecolor": "white"
           }
          },
          "shapedefaults": {
           "line": {
            "color": "#2a3f5f"
           }
          },
          "ternary": {
           "aaxis": {
            "gridcolor": "white",
            "linecolor": "white",
            "ticks": ""
           },
           "baxis": {
            "gridcolor": "white",
            "linecolor": "white",
            "ticks": ""
           },
           "bgcolor": "#E5ECF6",
           "caxis": {
            "gridcolor": "white",
            "linecolor": "white",
            "ticks": ""
           }
          },
          "title": {
           "x": 0.05
          },
          "xaxis": {
           "automargin": true,
           "gridcolor": "white",
           "linecolor": "white",
           "ticks": "",
           "title": {
            "standoff": 15
           },
           "zerolinecolor": "white",
           "zerolinewidth": 2
          },
          "yaxis": {
           "automargin": true,
           "gridcolor": "white",
           "linecolor": "white",
           "ticks": "",
           "title": {
            "standoff": 15
           },
           "zerolinecolor": "white",
           "zerolinewidth": 2
          }
         }
        },
        "title": {
         "text": "Sales Pipeline Funnel (Deal Amount)",
         "x": 0.5,
         "xanchor": "center",
         "y": 0.95,
         "yanchor": "top"
        },
        "width": 800
       }
      }
     },
     "metadata": {},
     "output_type": "display_data"
    },
    {
     "name": "stdout",
     "output_type": "stream",
     "text": [
      "\n",
      "Sales Funnel Summary (Deal Amount):\n"
     ]
    },
    {
     "data": {
      "text/html": [
       "<div>\n",
       "<style scoped>\n",
       "    .dataframe tbody tr th:only-of-type {\n",
       "        vertical-align: middle;\n",
       "    }\n",
       "\n",
       "    .dataframe tbody tr th {\n",
       "        vertical-align: top;\n",
       "    }\n",
       "\n",
       "    .dataframe thead th {\n",
       "        text-align: right;\n",
       "    }\n",
       "</style>\n",
       "<table border=\"1\" class=\"dataframe\">\n",
       "  <thead>\n",
       "    <tr style=\"text-align: right;\">\n",
       "      <th></th>\n",
       "      <th>Stage</th>\n",
       "      <th>Deal Count</th>\n",
       "      <th>Deal Amount (SEK)</th>\n",
       "    </tr>\n",
       "  </thead>\n",
       "  <tbody>\n",
       "    <tr>\n",
       "      <th>0</th>\n",
       "      <td>Stage 0: Lead</td>\n",
       "      <td>4</td>\n",
       "      <td>900,500.00 SEK</td>\n",
       "    </tr>\n",
       "    <tr>\n",
       "      <th>1</th>\n",
       "      <td>Stage 1: Qualification</td>\n",
       "      <td>5</td>\n",
       "      <td>2,190,000.00 SEK</td>\n",
       "    </tr>\n",
       "    <tr>\n",
       "      <th>2</th>\n",
       "      <td>Stage 3: Proposal</td>\n",
       "      <td>2</td>\n",
       "      <td>700,000.00 SEK</td>\n",
       "    </tr>\n",
       "    <tr>\n",
       "      <th>3</th>\n",
       "      <td>Stage 4: Closed Won</td>\n",
       "      <td>93</td>\n",
       "      <td>54,715,400.00 SEK</td>\n",
       "    </tr>\n",
       "    <tr>\n",
       "      <th>4</th>\n",
       "      <td>Stage 5: Closed Lost</td>\n",
       "      <td>218</td>\n",
       "      <td>106,954,002.00 SEK</td>\n",
       "    </tr>\n",
       "  </tbody>\n",
       "</table>\n",
       "</div>"
      ],
      "text/plain": [
       "                    Stage  Deal Count   Deal Amount (SEK)\n",
       "0           Stage 0: Lead           4      900,500.00 SEK\n",
       "1  Stage 1: Qualification           5    2,190,000.00 SEK\n",
       "2       Stage 3: Proposal           2      700,000.00 SEK\n",
       "3     Stage 4: Closed Won          93   54,715,400.00 SEK\n",
       "4    Stage 5: Closed Lost         218  106,954,002.00 SEK"
      ]
     },
     "metadata": {},
     "output_type": "display_data"
    }
   ],
   "source": [
    "# For weighted deal amounts\n",
    "sales_funnel_viz(sales_pipeline, weighted_amount=True)\n",
    "\n",
    "# For actual deal amounts\n",
    "sales_funnel_viz(sales_pipeline, weighted_amount=False)"
   ]
  },
  {
   "cell_type": "code",
   "execution_count": 17,
   "id": "1ca24d3b",
   "metadata": {},
   "outputs": [],
   "source": [
    "# second version with weighted amount and time range filter \n",
    "def sales_funnel_viz(df, weighted_amount=True, time_filter_start=None, time_filter_stop=None):\n",
    "    \"\"\"\n",
    "    Sales funnel visualization using Plotly with optional time filtering.\n",
    "    \n",
    "    Arguments:\n",
    "    df (DataFrame): Sales pipeline dataframe\n",
    "    weighted_amount (bool): If True, use weighted_deal_amount, otherwise use deal_amount\n",
    "    time_filter_start (str): Start date for filtering in format 'YYYY-MM-DD' \n",
    "    time_filter_stop (str): End date for filtering in format 'YYYY-MM-DD' \n",
    "    \n",
    "    Returns:\n",
    "    None: Displays the plotly figure\n",
    "    \"\"\"\n",
    "    # create a copy of the dataframe to avoid modifying the original\n",
    "    filtered_df = df.copy()\n",
    "    \n",
    "    # apply time filters if provided\n",
    "    if time_filter_start or time_filter_stop:\n",
    "        # get a sample date to check timezone info\n",
    "        date_col = filtered_df['create_date']\n",
    "        \n",
    "        # alternative approach for filtering with timezone-aware dates\n",
    "        if time_filter_start:\n",
    "            # convert to datetime and localize to match dataframe timezone\n",
    "            start_date = pd.to_datetime(time_filter_start)\n",
    "            start_date_str = start_date.strftime('%Y-%m-%d')\n",
    "            # Create a mask by converting to string format first for comparison\n",
    "            filtered_df = filtered_df[filtered_df['create_date'].dt.strftime('%Y-%m-%d') >= start_date_str]\n",
    "        \n",
    "        if time_filter_stop:\n",
    "            # convert to datetime and localize to match dataframe timezone\n",
    "            end_date = pd.to_datetime(time_filter_stop)\n",
    "            end_date_str = end_date.strftime('%Y-%m-%d')\n",
    "            # Create a mask by converting to string format first for comparison\n",
    "            filtered_df = filtered_df[filtered_df['create_date'].dt.strftime('%Y-%m-%d') <= end_date_str]\n",
    "        \n",
    "        # create date range text for title\n",
    "        if time_filter_start and time_filter_stop:\n",
    "            date_range_text = f\" (Created {time_filter_start} to {time_filter_stop})\"\n",
    "        elif time_filter_start:\n",
    "            date_range_text = f\" (Created from {time_filter_start})\"\n",
    "        elif time_filter_stop:\n",
    "            date_range_text = f\" (Created until {time_filter_stop})\"\n",
    "    else:\n",
    "        date_range_text = \"\"\n",
    "    \n",
    "    # check if we have data after filtering\n",
    "    if filtered_df.empty:\n",
    "        print(\"No data available after applying time filters.\")\n",
    "        return\n",
    "    \n",
    "    # select the appropriate amount column based on the parameter\n",
    "    amount_col = 'weighted_deal_amount' if weighted_amount else 'deal_amount'\n",
    "    amount_title = 'Weighted Deal Amount' if weighted_amount else 'Deal Amount'\n",
    "    \n",
    "    # group data by pipeline stage\n",
    "    funnel_data = filtered_df.groupby(['pipeline_stage_order', 'pipeline_stage']).agg(\n",
    "        amount=(amount_col, 'sum'),\n",
    "        deal_count=('deal_id', 'count')\n",
    "    ).reset_index().sort_values('pipeline_stage_order')\n",
    "    \n",
    "    # create stage labels\n",
    "    funnel_data['stage_label'] = funnel_data.apply(\n",
    "        lambda x: f\"Stage {int(x['pipeline_stage_order'])}: {x['pipeline_stage']}\", axis=1\n",
    "    )\n",
    "    \n",
    "    # format amount for hover text\n",
    "    funnel_data['amount_fmt'] = funnel_data['amount'].apply(lambda x: f\"{x:,.2f} SEK\")\n",
    "    \n",
    "    # create hover text\n",
    "    funnel_data['hover_text'] = funnel_data.apply(\n",
    "        lambda x: f\"<b>{x['stage_label']}</b><br>\" +\n",
    "                 f\"{amount_title}: {x['amount_fmt']}<br>\" +\n",
    "                 f\"Number of Deals: {x['deal_count']}\", \n",
    "        axis=1\n",
    "    )\n",
    "    \n",
    "    # create funnel chart\n",
    "    fig = go.Figure()\n",
    "    fig.add_trace(go.Funnel(\n",
    "        name='Sales Funnel',\n",
    "        y=funnel_data['stage_label'],\n",
    "        x=funnel_data['amount'],\n",
    "        textposition=\"inside\",\n",
    "        textinfo=\"value+percent initial\",\n",
    "        opacity=0.7,\n",
    "        marker={\n",
    "            \"color\": [\"#1f77b4\", \"#7fc3e5\", \"#4292c6\", \"#2171b5\", \"#08519c\"][:len(funnel_data)],\n",
    "            \"line\": {\"width\": [1] * len(funnel_data), \"color\": [\"white\"] * len(funnel_data)}\n",
    "        },\n",
    "        hovertext=funnel_data['hover_text'],\n",
    "        hoverinfo='text'\n",
    "    ))\n",
    "    \n",
    "    # add title and labels\n",
    "    fig.update_layout(\n",
    "        title={\n",
    "            'text': f'Sales Pipeline Funnel ({amount_title}){date_range_text}',\n",
    "            'y': 0.95,\n",
    "            'x': 0.5,\n",
    "            'xanchor': 'center',\n",
    "            'yanchor': 'top',\n",
    "        },\n",
    "        height=500,\n",
    "        width=800\n",
    "    )\n",
    "    fig.show()\n",
    "    print(f\"\\nSales Funnel Summary ({amount_title}){date_range_text}:\")\n",
    "    summary_df = funnel_data[['stage_label', 'deal_count', 'amount_fmt']]\n",
    "    summary_df.columns = ['Stage', 'Deal Count', f'{amount_title} (SEK)']\n",
    "    display(summary_df)"
   ]
  },
  {
   "cell_type": "code",
   "execution_count": 18,
   "id": "da99d5f9",
   "metadata": {},
   "outputs": [
    {
     "data": {
      "application/vnd.plotly.v1+json": {
       "config": {
        "plotlyServerURL": "https://plot.ly"
       },
       "data": [
        {
         "hoverinfo": "text",
         "hovertext": [
          "<b>Stage 4: Closed Won</b><br>Weighted Deal Amount: 11,067,400.00 SEK<br>Number of Deals: 11",
          "<b>Stage 5: Closed Lost</b><br>Weighted Deal Amount: 0.00 SEK<br>Number of Deals: 30"
         ],
         "marker": {
          "color": [
           "#1f77b4",
           "#7fc3e5"
          ],
          "line": {
           "color": [
            "white",
            "white"
           ],
           "width": [
            1,
            1
           ]
          }
         },
         "name": "Sales Funnel",
         "opacity": 0.7,
         "textinfo": "value+percent initial",
         "textposition": "inside",
         "type": "funnel",
         "x": [
          11067400,
          0
         ],
         "y": [
          "Stage 4: Closed Won",
          "Stage 5: Closed Lost"
         ]
        }
       ],
       "layout": {
        "height": 500,
        "template": {
         "data": {
          "bar": [
           {
            "error_x": {
             "color": "#2a3f5f"
            },
            "error_y": {
             "color": "#2a3f5f"
            },
            "marker": {
             "line": {
              "color": "#E5ECF6",
              "width": 0.5
             },
             "pattern": {
              "fillmode": "overlay",
              "size": 10,
              "solidity": 0.2
             }
            },
            "type": "bar"
           }
          ],
          "barpolar": [
           {
            "marker": {
             "line": {
              "color": "#E5ECF6",
              "width": 0.5
             },
             "pattern": {
              "fillmode": "overlay",
              "size": 10,
              "solidity": 0.2
             }
            },
            "type": "barpolar"
           }
          ],
          "carpet": [
           {
            "aaxis": {
             "endlinecolor": "#2a3f5f",
             "gridcolor": "white",
             "linecolor": "white",
             "minorgridcolor": "white",
             "startlinecolor": "#2a3f5f"
            },
            "baxis": {
             "endlinecolor": "#2a3f5f",
             "gridcolor": "white",
             "linecolor": "white",
             "minorgridcolor": "white",
             "startlinecolor": "#2a3f5f"
            },
            "type": "carpet"
           }
          ],
          "choropleth": [
           {
            "colorbar": {
             "outlinewidth": 0,
             "ticks": ""
            },
            "type": "choropleth"
           }
          ],
          "contour": [
           {
            "colorbar": {
             "outlinewidth": 0,
             "ticks": ""
            },
            "colorscale": [
             [
              0,
              "#0d0887"
             ],
             [
              0.1111111111111111,
              "#46039f"
             ],
             [
              0.2222222222222222,
              "#7201a8"
             ],
             [
              0.3333333333333333,
              "#9c179e"
             ],
             [
              0.4444444444444444,
              "#bd3786"
             ],
             [
              0.5555555555555556,
              "#d8576b"
             ],
             [
              0.6666666666666666,
              "#ed7953"
             ],
             [
              0.7777777777777778,
              "#fb9f3a"
             ],
             [
              0.8888888888888888,
              "#fdca26"
             ],
             [
              1,
              "#f0f921"
             ]
            ],
            "type": "contour"
           }
          ],
          "contourcarpet": [
           {
            "colorbar": {
             "outlinewidth": 0,
             "ticks": ""
            },
            "type": "contourcarpet"
           }
          ],
          "heatmap": [
           {
            "colorbar": {
             "outlinewidth": 0,
             "ticks": ""
            },
            "colorscale": [
             [
              0,
              "#0d0887"
             ],
             [
              0.1111111111111111,
              "#46039f"
             ],
             [
              0.2222222222222222,
              "#7201a8"
             ],
             [
              0.3333333333333333,
              "#9c179e"
             ],
             [
              0.4444444444444444,
              "#bd3786"
             ],
             [
              0.5555555555555556,
              "#d8576b"
             ],
             [
              0.6666666666666666,
              "#ed7953"
             ],
             [
              0.7777777777777778,
              "#fb9f3a"
             ],
             [
              0.8888888888888888,
              "#fdca26"
             ],
             [
              1,
              "#f0f921"
             ]
            ],
            "type": "heatmap"
           }
          ],
          "heatmapgl": [
           {
            "colorbar": {
             "outlinewidth": 0,
             "ticks": ""
            },
            "colorscale": [
             [
              0,
              "#0d0887"
             ],
             [
              0.1111111111111111,
              "#46039f"
             ],
             [
              0.2222222222222222,
              "#7201a8"
             ],
             [
              0.3333333333333333,
              "#9c179e"
             ],
             [
              0.4444444444444444,
              "#bd3786"
             ],
             [
              0.5555555555555556,
              "#d8576b"
             ],
             [
              0.6666666666666666,
              "#ed7953"
             ],
             [
              0.7777777777777778,
              "#fb9f3a"
             ],
             [
              0.8888888888888888,
              "#fdca26"
             ],
             [
              1,
              "#f0f921"
             ]
            ],
            "type": "heatmapgl"
           }
          ],
          "histogram": [
           {
            "marker": {
             "pattern": {
              "fillmode": "overlay",
              "size": 10,
              "solidity": 0.2
             }
            },
            "type": "histogram"
           }
          ],
          "histogram2d": [
           {
            "colorbar": {
             "outlinewidth": 0,
             "ticks": ""
            },
            "colorscale": [
             [
              0,
              "#0d0887"
             ],
             [
              0.1111111111111111,
              "#46039f"
             ],
             [
              0.2222222222222222,
              "#7201a8"
             ],
             [
              0.3333333333333333,
              "#9c179e"
             ],
             [
              0.4444444444444444,
              "#bd3786"
             ],
             [
              0.5555555555555556,
              "#d8576b"
             ],
             [
              0.6666666666666666,
              "#ed7953"
             ],
             [
              0.7777777777777778,
              "#fb9f3a"
             ],
             [
              0.8888888888888888,
              "#fdca26"
             ],
             [
              1,
              "#f0f921"
             ]
            ],
            "type": "histogram2d"
           }
          ],
          "histogram2dcontour": [
           {
            "colorbar": {
             "outlinewidth": 0,
             "ticks": ""
            },
            "colorscale": [
             [
              0,
              "#0d0887"
             ],
             [
              0.1111111111111111,
              "#46039f"
             ],
             [
              0.2222222222222222,
              "#7201a8"
             ],
             [
              0.3333333333333333,
              "#9c179e"
             ],
             [
              0.4444444444444444,
              "#bd3786"
             ],
             [
              0.5555555555555556,
              "#d8576b"
             ],
             [
              0.6666666666666666,
              "#ed7953"
             ],
             [
              0.7777777777777778,
              "#fb9f3a"
             ],
             [
              0.8888888888888888,
              "#fdca26"
             ],
             [
              1,
              "#f0f921"
             ]
            ],
            "type": "histogram2dcontour"
           }
          ],
          "mesh3d": [
           {
            "colorbar": {
             "outlinewidth": 0,
             "ticks": ""
            },
            "type": "mesh3d"
           }
          ],
          "parcoords": [
           {
            "line": {
             "colorbar": {
              "outlinewidth": 0,
              "ticks": ""
             }
            },
            "type": "parcoords"
           }
          ],
          "pie": [
           {
            "automargin": true,
            "type": "pie"
           }
          ],
          "scatter": [
           {
            "fillpattern": {
             "fillmode": "overlay",
             "size": 10,
             "solidity": 0.2
            },
            "type": "scatter"
           }
          ],
          "scatter3d": [
           {
            "line": {
             "colorbar": {
              "outlinewidth": 0,
              "ticks": ""
             }
            },
            "marker": {
             "colorbar": {
              "outlinewidth": 0,
              "ticks": ""
             }
            },
            "type": "scatter3d"
           }
          ],
          "scattercarpet": [
           {
            "marker": {
             "colorbar": {
              "outlinewidth": 0,
              "ticks": ""
             }
            },
            "type": "scattercarpet"
           }
          ],
          "scattergeo": [
           {
            "marker": {
             "colorbar": {
              "outlinewidth": 0,
              "ticks": ""
             }
            },
            "type": "scattergeo"
           }
          ],
          "scattergl": [
           {
            "marker": {
             "colorbar": {
              "outlinewidth": 0,
              "ticks": ""
             }
            },
            "type": "scattergl"
           }
          ],
          "scattermapbox": [
           {
            "marker": {
             "colorbar": {
              "outlinewidth": 0,
              "ticks": ""
             }
            },
            "type": "scattermapbox"
           }
          ],
          "scatterpolar": [
           {
            "marker": {
             "colorbar": {
              "outlinewidth": 0,
              "ticks": ""
             }
            },
            "type": "scatterpolar"
           }
          ],
          "scatterpolargl": [
           {
            "marker": {
             "colorbar": {
              "outlinewidth": 0,
              "ticks": ""
             }
            },
            "type": "scatterpolargl"
           }
          ],
          "scatterternary": [
           {
            "marker": {
             "colorbar": {
              "outlinewidth": 0,
              "ticks": ""
             }
            },
            "type": "scatterternary"
           }
          ],
          "surface": [
           {
            "colorbar": {
             "outlinewidth": 0,
             "ticks": ""
            },
            "colorscale": [
             [
              0,
              "#0d0887"
             ],
             [
              0.1111111111111111,
              "#46039f"
             ],
             [
              0.2222222222222222,
              "#7201a8"
             ],
             [
              0.3333333333333333,
              "#9c179e"
             ],
             [
              0.4444444444444444,
              "#bd3786"
             ],
             [
              0.5555555555555556,
              "#d8576b"
             ],
             [
              0.6666666666666666,
              "#ed7953"
             ],
             [
              0.7777777777777778,
              "#fb9f3a"
             ],
             [
              0.8888888888888888,
              "#fdca26"
             ],
             [
              1,
              "#f0f921"
             ]
            ],
            "type": "surface"
           }
          ],
          "table": [
           {
            "cells": {
             "fill": {
              "color": "#EBF0F8"
             },
             "line": {
              "color": "white"
             }
            },
            "header": {
             "fill": {
              "color": "#C8D4E3"
             },
             "line": {
              "color": "white"
             }
            },
            "type": "table"
           }
          ]
         },
         "layout": {
          "annotationdefaults": {
           "arrowcolor": "#2a3f5f",
           "arrowhead": 0,
           "arrowwidth": 1
          },
          "autotypenumbers": "strict",
          "coloraxis": {
           "colorbar": {
            "outlinewidth": 0,
            "ticks": ""
           }
          },
          "colorscale": {
           "diverging": [
            [
             0,
             "#8e0152"
            ],
            [
             0.1,
             "#c51b7d"
            ],
            [
             0.2,
             "#de77ae"
            ],
            [
             0.3,
             "#f1b6da"
            ],
            [
             0.4,
             "#fde0ef"
            ],
            [
             0.5,
             "#f7f7f7"
            ],
            [
             0.6,
             "#e6f5d0"
            ],
            [
             0.7,
             "#b8e186"
            ],
            [
             0.8,
             "#7fbc41"
            ],
            [
             0.9,
             "#4d9221"
            ],
            [
             1,
             "#276419"
            ]
           ],
           "sequential": [
            [
             0,
             "#0d0887"
            ],
            [
             0.1111111111111111,
             "#46039f"
            ],
            [
             0.2222222222222222,
             "#7201a8"
            ],
            [
             0.3333333333333333,
             "#9c179e"
            ],
            [
             0.4444444444444444,
             "#bd3786"
            ],
            [
             0.5555555555555556,
             "#d8576b"
            ],
            [
             0.6666666666666666,
             "#ed7953"
            ],
            [
             0.7777777777777778,
             "#fb9f3a"
            ],
            [
             0.8888888888888888,
             "#fdca26"
            ],
            [
             1,
             "#f0f921"
            ]
           ],
           "sequentialminus": [
            [
             0,
             "#0d0887"
            ],
            [
             0.1111111111111111,
             "#46039f"
            ],
            [
             0.2222222222222222,
             "#7201a8"
            ],
            [
             0.3333333333333333,
             "#9c179e"
            ],
            [
             0.4444444444444444,
             "#bd3786"
            ],
            [
             0.5555555555555556,
             "#d8576b"
            ],
            [
             0.6666666666666666,
             "#ed7953"
            ],
            [
             0.7777777777777778,
             "#fb9f3a"
            ],
            [
             0.8888888888888888,
             "#fdca26"
            ],
            [
             1,
             "#f0f921"
            ]
           ]
          },
          "colorway": [
           "#636efa",
           "#EF553B",
           "#00cc96",
           "#ab63fa",
           "#FFA15A",
           "#19d3f3",
           "#FF6692",
           "#B6E880",
           "#FF97FF",
           "#FECB52"
          ],
          "font": {
           "color": "#2a3f5f"
          },
          "geo": {
           "bgcolor": "white",
           "lakecolor": "white",
           "landcolor": "#E5ECF6",
           "showlakes": true,
           "showland": true,
           "subunitcolor": "white"
          },
          "hoverlabel": {
           "align": "left"
          },
          "hovermode": "closest",
          "mapbox": {
           "style": "light"
          },
          "paper_bgcolor": "white",
          "plot_bgcolor": "#E5ECF6",
          "polar": {
           "angularaxis": {
            "gridcolor": "white",
            "linecolor": "white",
            "ticks": ""
           },
           "bgcolor": "#E5ECF6",
           "radialaxis": {
            "gridcolor": "white",
            "linecolor": "white",
            "ticks": ""
           }
          },
          "scene": {
           "xaxis": {
            "backgroundcolor": "#E5ECF6",
            "gridcolor": "white",
            "gridwidth": 2,
            "linecolor": "white",
            "showbackground": true,
            "ticks": "",
            "zerolinecolor": "white"
           },
           "yaxis": {
            "backgroundcolor": "#E5ECF6",
            "gridcolor": "white",
            "gridwidth": 2,
            "linecolor": "white",
            "showbackground": true,
            "ticks": "",
            "zerolinecolor": "white"
           },
           "zaxis": {
            "backgroundcolor": "#E5ECF6",
            "gridcolor": "white",
            "gridwidth": 2,
            "linecolor": "white",
            "showbackground": true,
            "ticks": "",
            "zerolinecolor": "white"
           }
          },
          "shapedefaults": {
           "line": {
            "color": "#2a3f5f"
           }
          },
          "ternary": {
           "aaxis": {
            "gridcolor": "white",
            "linecolor": "white",
            "ticks": ""
           },
           "baxis": {
            "gridcolor": "white",
            "linecolor": "white",
            "ticks": ""
           },
           "bgcolor": "#E5ECF6",
           "caxis": {
            "gridcolor": "white",
            "linecolor": "white",
            "ticks": ""
           }
          },
          "title": {
           "x": 0.05
          },
          "xaxis": {
           "automargin": true,
           "gridcolor": "white",
           "linecolor": "white",
           "ticks": "",
           "title": {
            "standoff": 15
           },
           "zerolinecolor": "white",
           "zerolinewidth": 2
          },
          "yaxis": {
           "automargin": true,
           "gridcolor": "white",
           "linecolor": "white",
           "ticks": "",
           "title": {
            "standoff": 15
           },
           "zerolinecolor": "white",
           "zerolinewidth": 2
          }
         }
        },
        "title": {
         "text": "Sales Pipeline Funnel (Weighted Deal Amount) (Created 2023-01-01 to 2023-06-30)",
         "x": 0.5,
         "xanchor": "center",
         "y": 0.95,
         "yanchor": "top"
        },
        "width": 800
       }
      }
     },
     "metadata": {},
     "output_type": "display_data"
    },
    {
     "name": "stdout",
     "output_type": "stream",
     "text": [
      "\n",
      "Sales Funnel Summary (Weighted Deal Amount) (Created 2023-01-01 to 2023-06-30):\n"
     ]
    },
    {
     "data": {
      "text/html": [
       "<div>\n",
       "<style scoped>\n",
       "    .dataframe tbody tr th:only-of-type {\n",
       "        vertical-align: middle;\n",
       "    }\n",
       "\n",
       "    .dataframe tbody tr th {\n",
       "        vertical-align: top;\n",
       "    }\n",
       "\n",
       "    .dataframe thead th {\n",
       "        text-align: right;\n",
       "    }\n",
       "</style>\n",
       "<table border=\"1\" class=\"dataframe\">\n",
       "  <thead>\n",
       "    <tr style=\"text-align: right;\">\n",
       "      <th></th>\n",
       "      <th>Stage</th>\n",
       "      <th>Deal Count</th>\n",
       "      <th>Weighted Deal Amount (SEK)</th>\n",
       "    </tr>\n",
       "  </thead>\n",
       "  <tbody>\n",
       "    <tr>\n",
       "      <th>0</th>\n",
       "      <td>Stage 4: Closed Won</td>\n",
       "      <td>11</td>\n",
       "      <td>11,067,400.00 SEK</td>\n",
       "    </tr>\n",
       "    <tr>\n",
       "      <th>1</th>\n",
       "      <td>Stage 5: Closed Lost</td>\n",
       "      <td>30</td>\n",
       "      <td>0.00 SEK</td>\n",
       "    </tr>\n",
       "  </tbody>\n",
       "</table>\n",
       "</div>"
      ],
      "text/plain": [
       "                  Stage  Deal Count Weighted Deal Amount (SEK)\n",
       "0   Stage 4: Closed Won          11          11,067,400.00 SEK\n",
       "1  Stage 5: Closed Lost          30                   0.00 SEK"
      ]
     },
     "metadata": {},
     "output_type": "display_data"
    },
    {
     "data": {
      "application/vnd.plotly.v1+json": {
       "config": {
        "plotlyServerURL": "https://plot.ly"
       },
       "data": [
        {
         "hoverinfo": "text",
         "hovertext": [
          "<b>Stage 0: Lead</b><br>Deal Amount: 900,500.00 SEK<br>Number of Deals: 4",
          "<b>Stage 1: Qualification</b><br>Deal Amount: 2,190,000.00 SEK<br>Number of Deals: 5",
          "<b>Stage 3: Proposal</b><br>Deal Amount: 700,000.00 SEK<br>Number of Deals: 2",
          "<b>Stage 4: Closed Won</b><br>Deal Amount: 33,348,400.00 SEK<br>Number of Deals: 55",
          "<b>Stage 5: Closed Lost</b><br>Deal Amount: 74,070,000.00 SEK<br>Number of Deals: 130"
         ],
         "marker": {
          "color": [
           "#1f77b4",
           "#7fc3e5",
           "#4292c6",
           "#2171b5",
           "#08519c"
          ],
          "line": {
           "color": [
            "white",
            "white",
            "white",
            "white",
            "white"
           ],
           "width": [
            1,
            1,
            1,
            1,
            1
           ]
          }
         },
         "name": "Sales Funnel",
         "opacity": 0.7,
         "textinfo": "value+percent initial",
         "textposition": "inside",
         "type": "funnel",
         "x": [
          900500,
          2190000,
          700000,
          33348400,
          74070000
         ],
         "y": [
          "Stage 0: Lead",
          "Stage 1: Qualification",
          "Stage 3: Proposal",
          "Stage 4: Closed Won",
          "Stage 5: Closed Lost"
         ]
        }
       ],
       "layout": {
        "height": 500,
        "template": {
         "data": {
          "bar": [
           {
            "error_x": {
             "color": "#2a3f5f"
            },
            "error_y": {
             "color": "#2a3f5f"
            },
            "marker": {
             "line": {
              "color": "#E5ECF6",
              "width": 0.5
             },
             "pattern": {
              "fillmode": "overlay",
              "size": 10,
              "solidity": 0.2
             }
            },
            "type": "bar"
           }
          ],
          "barpolar": [
           {
            "marker": {
             "line": {
              "color": "#E5ECF6",
              "width": 0.5
             },
             "pattern": {
              "fillmode": "overlay",
              "size": 10,
              "solidity": 0.2
             }
            },
            "type": "barpolar"
           }
          ],
          "carpet": [
           {
            "aaxis": {
             "endlinecolor": "#2a3f5f",
             "gridcolor": "white",
             "linecolor": "white",
             "minorgridcolor": "white",
             "startlinecolor": "#2a3f5f"
            },
            "baxis": {
             "endlinecolor": "#2a3f5f",
             "gridcolor": "white",
             "linecolor": "white",
             "minorgridcolor": "white",
             "startlinecolor": "#2a3f5f"
            },
            "type": "carpet"
           }
          ],
          "choropleth": [
           {
            "colorbar": {
             "outlinewidth": 0,
             "ticks": ""
            },
            "type": "choropleth"
           }
          ],
          "contour": [
           {
            "colorbar": {
             "outlinewidth": 0,
             "ticks": ""
            },
            "colorscale": [
             [
              0,
              "#0d0887"
             ],
             [
              0.1111111111111111,
              "#46039f"
             ],
             [
              0.2222222222222222,
              "#7201a8"
             ],
             [
              0.3333333333333333,
              "#9c179e"
             ],
             [
              0.4444444444444444,
              "#bd3786"
             ],
             [
              0.5555555555555556,
              "#d8576b"
             ],
             [
              0.6666666666666666,
              "#ed7953"
             ],
             [
              0.7777777777777778,
              "#fb9f3a"
             ],
             [
              0.8888888888888888,
              "#fdca26"
             ],
             [
              1,
              "#f0f921"
             ]
            ],
            "type": "contour"
           }
          ],
          "contourcarpet": [
           {
            "colorbar": {
             "outlinewidth": 0,
             "ticks": ""
            },
            "type": "contourcarpet"
           }
          ],
          "heatmap": [
           {
            "colorbar": {
             "outlinewidth": 0,
             "ticks": ""
            },
            "colorscale": [
             [
              0,
              "#0d0887"
             ],
             [
              0.1111111111111111,
              "#46039f"
             ],
             [
              0.2222222222222222,
              "#7201a8"
             ],
             [
              0.3333333333333333,
              "#9c179e"
             ],
             [
              0.4444444444444444,
              "#bd3786"
             ],
             [
              0.5555555555555556,
              "#d8576b"
             ],
             [
              0.6666666666666666,
              "#ed7953"
             ],
             [
              0.7777777777777778,
              "#fb9f3a"
             ],
             [
              0.8888888888888888,
              "#fdca26"
             ],
             [
              1,
              "#f0f921"
             ]
            ],
            "type": "heatmap"
           }
          ],
          "heatmapgl": [
           {
            "colorbar": {
             "outlinewidth": 0,
             "ticks": ""
            },
            "colorscale": [
             [
              0,
              "#0d0887"
             ],
             [
              0.1111111111111111,
              "#46039f"
             ],
             [
              0.2222222222222222,
              "#7201a8"
             ],
             [
              0.3333333333333333,
              "#9c179e"
             ],
             [
              0.4444444444444444,
              "#bd3786"
             ],
             [
              0.5555555555555556,
              "#d8576b"
             ],
             [
              0.6666666666666666,
              "#ed7953"
             ],
             [
              0.7777777777777778,
              "#fb9f3a"
             ],
             [
              0.8888888888888888,
              "#fdca26"
             ],
             [
              1,
              "#f0f921"
             ]
            ],
            "type": "heatmapgl"
           }
          ],
          "histogram": [
           {
            "marker": {
             "pattern": {
              "fillmode": "overlay",
              "size": 10,
              "solidity": 0.2
             }
            },
            "type": "histogram"
           }
          ],
          "histogram2d": [
           {
            "colorbar": {
             "outlinewidth": 0,
             "ticks": ""
            },
            "colorscale": [
             [
              0,
              "#0d0887"
             ],
             [
              0.1111111111111111,
              "#46039f"
             ],
             [
              0.2222222222222222,
              "#7201a8"
             ],
             [
              0.3333333333333333,
              "#9c179e"
             ],
             [
              0.4444444444444444,
              "#bd3786"
             ],
             [
              0.5555555555555556,
              "#d8576b"
             ],
             [
              0.6666666666666666,
              "#ed7953"
             ],
             [
              0.7777777777777778,
              "#fb9f3a"
             ],
             [
              0.8888888888888888,
              "#fdca26"
             ],
             [
              1,
              "#f0f921"
             ]
            ],
            "type": "histogram2d"
           }
          ],
          "histogram2dcontour": [
           {
            "colorbar": {
             "outlinewidth": 0,
             "ticks": ""
            },
            "colorscale": [
             [
              0,
              "#0d0887"
             ],
             [
              0.1111111111111111,
              "#46039f"
             ],
             [
              0.2222222222222222,
              "#7201a8"
             ],
             [
              0.3333333333333333,
              "#9c179e"
             ],
             [
              0.4444444444444444,
              "#bd3786"
             ],
             [
              0.5555555555555556,
              "#d8576b"
             ],
             [
              0.6666666666666666,
              "#ed7953"
             ],
             [
              0.7777777777777778,
              "#fb9f3a"
             ],
             [
              0.8888888888888888,
              "#fdca26"
             ],
             [
              1,
              "#f0f921"
             ]
            ],
            "type": "histogram2dcontour"
           }
          ],
          "mesh3d": [
           {
            "colorbar": {
             "outlinewidth": 0,
             "ticks": ""
            },
            "type": "mesh3d"
           }
          ],
          "parcoords": [
           {
            "line": {
             "colorbar": {
              "outlinewidth": 0,
              "ticks": ""
             }
            },
            "type": "parcoords"
           }
          ],
          "pie": [
           {
            "automargin": true,
            "type": "pie"
           }
          ],
          "scatter": [
           {
            "fillpattern": {
             "fillmode": "overlay",
             "size": 10,
             "solidity": 0.2
            },
            "type": "scatter"
           }
          ],
          "scatter3d": [
           {
            "line": {
             "colorbar": {
              "outlinewidth": 0,
              "ticks": ""
             }
            },
            "marker": {
             "colorbar": {
              "outlinewidth": 0,
              "ticks": ""
             }
            },
            "type": "scatter3d"
           }
          ],
          "scattercarpet": [
           {
            "marker": {
             "colorbar": {
              "outlinewidth": 0,
              "ticks": ""
             }
            },
            "type": "scattercarpet"
           }
          ],
          "scattergeo": [
           {
            "marker": {
             "colorbar": {
              "outlinewidth": 0,
              "ticks": ""
             }
            },
            "type": "scattergeo"
           }
          ],
          "scattergl": [
           {
            "marker": {
             "colorbar": {
              "outlinewidth": 0,
              "ticks": ""
             }
            },
            "type": "scattergl"
           }
          ],
          "scattermapbox": [
           {
            "marker": {
             "colorbar": {
              "outlinewidth": 0,
              "ticks": ""
             }
            },
            "type": "scattermapbox"
           }
          ],
          "scatterpolar": [
           {
            "marker": {
             "colorbar": {
              "outlinewidth": 0,
              "ticks": ""
             }
            },
            "type": "scatterpolar"
           }
          ],
          "scatterpolargl": [
           {
            "marker": {
             "colorbar": {
              "outlinewidth": 0,
              "ticks": ""
             }
            },
            "type": "scatterpolargl"
           }
          ],
          "scatterternary": [
           {
            "marker": {
             "colorbar": {
              "outlinewidth": 0,
              "ticks": ""
             }
            },
            "type": "scatterternary"
           }
          ],
          "surface": [
           {
            "colorbar": {
             "outlinewidth": 0,
             "ticks": ""
            },
            "colorscale": [
             [
              0,
              "#0d0887"
             ],
             [
              0.1111111111111111,
              "#46039f"
             ],
             [
              0.2222222222222222,
              "#7201a8"
             ],
             [
              0.3333333333333333,
              "#9c179e"
             ],
             [
              0.4444444444444444,
              "#bd3786"
             ],
             [
              0.5555555555555556,
              "#d8576b"
             ],
             [
              0.6666666666666666,
              "#ed7953"
             ],
             [
              0.7777777777777778,
              "#fb9f3a"
             ],
             [
              0.8888888888888888,
              "#fdca26"
             ],
             [
              1,
              "#f0f921"
             ]
            ],
            "type": "surface"
           }
          ],
          "table": [
           {
            "cells": {
             "fill": {
              "color": "#EBF0F8"
             },
             "line": {
              "color": "white"
             }
            },
            "header": {
             "fill": {
              "color": "#C8D4E3"
             },
             "line": {
              "color": "white"
             }
            },
            "type": "table"
           }
          ]
         },
         "layout": {
          "annotationdefaults": {
           "arrowcolor": "#2a3f5f",
           "arrowhead": 0,
           "arrowwidth": 1
          },
          "autotypenumbers": "strict",
          "coloraxis": {
           "colorbar": {
            "outlinewidth": 0,
            "ticks": ""
           }
          },
          "colorscale": {
           "diverging": [
            [
             0,
             "#8e0152"
            ],
            [
             0.1,
             "#c51b7d"
            ],
            [
             0.2,
             "#de77ae"
            ],
            [
             0.3,
             "#f1b6da"
            ],
            [
             0.4,
             "#fde0ef"
            ],
            [
             0.5,
             "#f7f7f7"
            ],
            [
             0.6,
             "#e6f5d0"
            ],
            [
             0.7,
             "#b8e186"
            ],
            [
             0.8,
             "#7fbc41"
            ],
            [
             0.9,
             "#4d9221"
            ],
            [
             1,
             "#276419"
            ]
           ],
           "sequential": [
            [
             0,
             "#0d0887"
            ],
            [
             0.1111111111111111,
             "#46039f"
            ],
            [
             0.2222222222222222,
             "#7201a8"
            ],
            [
             0.3333333333333333,
             "#9c179e"
            ],
            [
             0.4444444444444444,
             "#bd3786"
            ],
            [
             0.5555555555555556,
             "#d8576b"
            ],
            [
             0.6666666666666666,
             "#ed7953"
            ],
            [
             0.7777777777777778,
             "#fb9f3a"
            ],
            [
             0.8888888888888888,
             "#fdca26"
            ],
            [
             1,
             "#f0f921"
            ]
           ],
           "sequentialminus": [
            [
             0,
             "#0d0887"
            ],
            [
             0.1111111111111111,
             "#46039f"
            ],
            [
             0.2222222222222222,
             "#7201a8"
            ],
            [
             0.3333333333333333,
             "#9c179e"
            ],
            [
             0.4444444444444444,
             "#bd3786"
            ],
            [
             0.5555555555555556,
             "#d8576b"
            ],
            [
             0.6666666666666666,
             "#ed7953"
            ],
            [
             0.7777777777777778,
             "#fb9f3a"
            ],
            [
             0.8888888888888888,
             "#fdca26"
            ],
            [
             1,
             "#f0f921"
            ]
           ]
          },
          "colorway": [
           "#636efa",
           "#EF553B",
           "#00cc96",
           "#ab63fa",
           "#FFA15A",
           "#19d3f3",
           "#FF6692",
           "#B6E880",
           "#FF97FF",
           "#FECB52"
          ],
          "font": {
           "color": "#2a3f5f"
          },
          "geo": {
           "bgcolor": "white",
           "lakecolor": "white",
           "landcolor": "#E5ECF6",
           "showlakes": true,
           "showland": true,
           "subunitcolor": "white"
          },
          "hoverlabel": {
           "align": "left"
          },
          "hovermode": "closest",
          "mapbox": {
           "style": "light"
          },
          "paper_bgcolor": "white",
          "plot_bgcolor": "#E5ECF6",
          "polar": {
           "angularaxis": {
            "gridcolor": "white",
            "linecolor": "white",
            "ticks": ""
           },
           "bgcolor": "#E5ECF6",
           "radialaxis": {
            "gridcolor": "white",
            "linecolor": "white",
            "ticks": ""
           }
          },
          "scene": {
           "xaxis": {
            "backgroundcolor": "#E5ECF6",
            "gridcolor": "white",
            "gridwidth": 2,
            "linecolor": "white",
            "showbackground": true,
            "ticks": "",
            "zerolinecolor": "white"
           },
           "yaxis": {
            "backgroundcolor": "#E5ECF6",
            "gridcolor": "white",
            "gridwidth": 2,
            "linecolor": "white",
            "showbackground": true,
            "ticks": "",
            "zerolinecolor": "white"
           },
           "zaxis": {
            "backgroundcolor": "#E5ECF6",
            "gridcolor": "white",
            "gridwidth": 2,
            "linecolor": "white",
            "showbackground": true,
            "ticks": "",
            "zerolinecolor": "white"
           }
          },
          "shapedefaults": {
           "line": {
            "color": "#2a3f5f"
           }
          },
          "ternary": {
           "aaxis": {
            "gridcolor": "white",
            "linecolor": "white",
            "ticks": ""
           },
           "baxis": {
            "gridcolor": "white",
            "linecolor": "white",
            "ticks": ""
           },
           "bgcolor": "#E5ECF6",
           "caxis": {
            "gridcolor": "white",
            "linecolor": "white",
            "ticks": ""
           }
          },
          "title": {
           "x": 0.05
          },
          "xaxis": {
           "automargin": true,
           "gridcolor": "white",
           "linecolor": "white",
           "ticks": "",
           "title": {
            "standoff": 15
           },
           "zerolinecolor": "white",
           "zerolinewidth": 2
          },
          "yaxis": {
           "automargin": true,
           "gridcolor": "white",
           "linecolor": "white",
           "ticks": "",
           "title": {
            "standoff": 15
           },
           "zerolinecolor": "white",
           "zerolinewidth": 2
          }
         }
        },
        "title": {
         "text": "Sales Pipeline Funnel (Deal Amount) (Created from 2023-01-01)",
         "x": 0.5,
         "xanchor": "center",
         "y": 0.95,
         "yanchor": "top"
        },
        "width": 800
       }
      }
     },
     "metadata": {},
     "output_type": "display_data"
    },
    {
     "name": "stdout",
     "output_type": "stream",
     "text": [
      "\n",
      "Sales Funnel Summary (Deal Amount) (Created from 2023-01-01):\n"
     ]
    },
    {
     "data": {
      "text/html": [
       "<div>\n",
       "<style scoped>\n",
       "    .dataframe tbody tr th:only-of-type {\n",
       "        vertical-align: middle;\n",
       "    }\n",
       "\n",
       "    .dataframe tbody tr th {\n",
       "        vertical-align: top;\n",
       "    }\n",
       "\n",
       "    .dataframe thead th {\n",
       "        text-align: right;\n",
       "    }\n",
       "</style>\n",
       "<table border=\"1\" class=\"dataframe\">\n",
       "  <thead>\n",
       "    <tr style=\"text-align: right;\">\n",
       "      <th></th>\n",
       "      <th>Stage</th>\n",
       "      <th>Deal Count</th>\n",
       "      <th>Deal Amount (SEK)</th>\n",
       "    </tr>\n",
       "  </thead>\n",
       "  <tbody>\n",
       "    <tr>\n",
       "      <th>0</th>\n",
       "      <td>Stage 0: Lead</td>\n",
       "      <td>4</td>\n",
       "      <td>900,500.00 SEK</td>\n",
       "    </tr>\n",
       "    <tr>\n",
       "      <th>1</th>\n",
       "      <td>Stage 1: Qualification</td>\n",
       "      <td>5</td>\n",
       "      <td>2,190,000.00 SEK</td>\n",
       "    </tr>\n",
       "    <tr>\n",
       "      <th>2</th>\n",
       "      <td>Stage 3: Proposal</td>\n",
       "      <td>2</td>\n",
       "      <td>700,000.00 SEK</td>\n",
       "    </tr>\n",
       "    <tr>\n",
       "      <th>3</th>\n",
       "      <td>Stage 4: Closed Won</td>\n",
       "      <td>55</td>\n",
       "      <td>33,348,400.00 SEK</td>\n",
       "    </tr>\n",
       "    <tr>\n",
       "      <th>4</th>\n",
       "      <td>Stage 5: Closed Lost</td>\n",
       "      <td>130</td>\n",
       "      <td>74,070,000.00 SEK</td>\n",
       "    </tr>\n",
       "  </tbody>\n",
       "</table>\n",
       "</div>"
      ],
      "text/plain": [
       "                    Stage  Deal Count  Deal Amount (SEK)\n",
       "0           Stage 0: Lead           4     900,500.00 SEK\n",
       "1  Stage 1: Qualification           5   2,190,000.00 SEK\n",
       "2       Stage 3: Proposal           2     700,000.00 SEK\n",
       "3     Stage 4: Closed Won          55  33,348,400.00 SEK\n",
       "4    Stage 5: Closed Lost         130  74,070,000.00 SEK"
      ]
     },
     "metadata": {},
     "output_type": "display_data"
    },
    {
     "data": {
      "application/vnd.plotly.v1+json": {
       "config": {
        "plotlyServerURL": "https://plot.ly"
       },
       "data": [
        {
         "hoverinfo": "text",
         "hovertext": [
          "<b>Stage 4: Closed Won</b><br>Weighted Deal Amount: 37,729,400.00 SEK<br>Number of Deals: 57",
          "<b>Stage 5: Closed Lost</b><br>Weighted Deal Amount: 0.00 SEK<br>Number of Deals: 148"
         ],
         "marker": {
          "color": [
           "#1f77b4",
           "#7fc3e5"
          ],
          "line": {
           "color": [
            "white",
            "white"
           ],
           "width": [
            1,
            1
           ]
          }
         },
         "name": "Sales Funnel",
         "opacity": 0.7,
         "textinfo": "value+percent initial",
         "textposition": "inside",
         "type": "funnel",
         "x": [
          37729400,
          0
         ],
         "y": [
          "Stage 4: Closed Won",
          "Stage 5: Closed Lost"
         ]
        }
       ],
       "layout": {
        "height": 500,
        "template": {
         "data": {
          "bar": [
           {
            "error_x": {
             "color": "#2a3f5f"
            },
            "error_y": {
             "color": "#2a3f5f"
            },
            "marker": {
             "line": {
              "color": "#E5ECF6",
              "width": 0.5
             },
             "pattern": {
              "fillmode": "overlay",
              "size": 10,
              "solidity": 0.2
             }
            },
            "type": "bar"
           }
          ],
          "barpolar": [
           {
            "marker": {
             "line": {
              "color": "#E5ECF6",
              "width": 0.5
             },
             "pattern": {
              "fillmode": "overlay",
              "size": 10,
              "solidity": 0.2
             }
            },
            "type": "barpolar"
           }
          ],
          "carpet": [
           {
            "aaxis": {
             "endlinecolor": "#2a3f5f",
             "gridcolor": "white",
             "linecolor": "white",
             "minorgridcolor": "white",
             "startlinecolor": "#2a3f5f"
            },
            "baxis": {
             "endlinecolor": "#2a3f5f",
             "gridcolor": "white",
             "linecolor": "white",
             "minorgridcolor": "white",
             "startlinecolor": "#2a3f5f"
            },
            "type": "carpet"
           }
          ],
          "choropleth": [
           {
            "colorbar": {
             "outlinewidth": 0,
             "ticks": ""
            },
            "type": "choropleth"
           }
          ],
          "contour": [
           {
            "colorbar": {
             "outlinewidth": 0,
             "ticks": ""
            },
            "colorscale": [
             [
              0,
              "#0d0887"
             ],
             [
              0.1111111111111111,
              "#46039f"
             ],
             [
              0.2222222222222222,
              "#7201a8"
             ],
             [
              0.3333333333333333,
              "#9c179e"
             ],
             [
              0.4444444444444444,
              "#bd3786"
             ],
             [
              0.5555555555555556,
              "#d8576b"
             ],
             [
              0.6666666666666666,
              "#ed7953"
             ],
             [
              0.7777777777777778,
              "#fb9f3a"
             ],
             [
              0.8888888888888888,
              "#fdca26"
             ],
             [
              1,
              "#f0f921"
             ]
            ],
            "type": "contour"
           }
          ],
          "contourcarpet": [
           {
            "colorbar": {
             "outlinewidth": 0,
             "ticks": ""
            },
            "type": "contourcarpet"
           }
          ],
          "heatmap": [
           {
            "colorbar": {
             "outlinewidth": 0,
             "ticks": ""
            },
            "colorscale": [
             [
              0,
              "#0d0887"
             ],
             [
              0.1111111111111111,
              "#46039f"
             ],
             [
              0.2222222222222222,
              "#7201a8"
             ],
             [
              0.3333333333333333,
              "#9c179e"
             ],
             [
              0.4444444444444444,
              "#bd3786"
             ],
             [
              0.5555555555555556,
              "#d8576b"
             ],
             [
              0.6666666666666666,
              "#ed7953"
             ],
             [
              0.7777777777777778,
              "#fb9f3a"
             ],
             [
              0.8888888888888888,
              "#fdca26"
             ],
             [
              1,
              "#f0f921"
             ]
            ],
            "type": "heatmap"
           }
          ],
          "heatmapgl": [
           {
            "colorbar": {
             "outlinewidth": 0,
             "ticks": ""
            },
            "colorscale": [
             [
              0,
              "#0d0887"
             ],
             [
              0.1111111111111111,
              "#46039f"
             ],
             [
              0.2222222222222222,
              "#7201a8"
             ],
             [
              0.3333333333333333,
              "#9c179e"
             ],
             [
              0.4444444444444444,
              "#bd3786"
             ],
             [
              0.5555555555555556,
              "#d8576b"
             ],
             [
              0.6666666666666666,
              "#ed7953"
             ],
             [
              0.7777777777777778,
              "#fb9f3a"
             ],
             [
              0.8888888888888888,
              "#fdca26"
             ],
             [
              1,
              "#f0f921"
             ]
            ],
            "type": "heatmapgl"
           }
          ],
          "histogram": [
           {
            "marker": {
             "pattern": {
              "fillmode": "overlay",
              "size": 10,
              "solidity": 0.2
             }
            },
            "type": "histogram"
           }
          ],
          "histogram2d": [
           {
            "colorbar": {
             "outlinewidth": 0,
             "ticks": ""
            },
            "colorscale": [
             [
              0,
              "#0d0887"
             ],
             [
              0.1111111111111111,
              "#46039f"
             ],
             [
              0.2222222222222222,
              "#7201a8"
             ],
             [
              0.3333333333333333,
              "#9c179e"
             ],
             [
              0.4444444444444444,
              "#bd3786"
             ],
             [
              0.5555555555555556,
              "#d8576b"
             ],
             [
              0.6666666666666666,
              "#ed7953"
             ],
             [
              0.7777777777777778,
              "#fb9f3a"
             ],
             [
              0.8888888888888888,
              "#fdca26"
             ],
             [
              1,
              "#f0f921"
             ]
            ],
            "type": "histogram2d"
           }
          ],
          "histogram2dcontour": [
           {
            "colorbar": {
             "outlinewidth": 0,
             "ticks": ""
            },
            "colorscale": [
             [
              0,
              "#0d0887"
             ],
             [
              0.1111111111111111,
              "#46039f"
             ],
             [
              0.2222222222222222,
              "#7201a8"
             ],
             [
              0.3333333333333333,
              "#9c179e"
             ],
             [
              0.4444444444444444,
              "#bd3786"
             ],
             [
              0.5555555555555556,
              "#d8576b"
             ],
             [
              0.6666666666666666,
              "#ed7953"
             ],
             [
              0.7777777777777778,
              "#fb9f3a"
             ],
             [
              0.8888888888888888,
              "#fdca26"
             ],
             [
              1,
              "#f0f921"
             ]
            ],
            "type": "histogram2dcontour"
           }
          ],
          "mesh3d": [
           {
            "colorbar": {
             "outlinewidth": 0,
             "ticks": ""
            },
            "type": "mesh3d"
           }
          ],
          "parcoords": [
           {
            "line": {
             "colorbar": {
              "outlinewidth": 0,
              "ticks": ""
             }
            },
            "type": "parcoords"
           }
          ],
          "pie": [
           {
            "automargin": true,
            "type": "pie"
           }
          ],
          "scatter": [
           {
            "fillpattern": {
             "fillmode": "overlay",
             "size": 10,
             "solidity": 0.2
            },
            "type": "scatter"
           }
          ],
          "scatter3d": [
           {
            "line": {
             "colorbar": {
              "outlinewidth": 0,
              "ticks": ""
             }
            },
            "marker": {
             "colorbar": {
              "outlinewidth": 0,
              "ticks": ""
             }
            },
            "type": "scatter3d"
           }
          ],
          "scattercarpet": [
           {
            "marker": {
             "colorbar": {
              "outlinewidth": 0,
              "ticks": ""
             }
            },
            "type": "scattercarpet"
           }
          ],
          "scattergeo": [
           {
            "marker": {
             "colorbar": {
              "outlinewidth": 0,
              "ticks": ""
             }
            },
            "type": "scattergeo"
           }
          ],
          "scattergl": [
           {
            "marker": {
             "colorbar": {
              "outlinewidth": 0,
              "ticks": ""
             }
            },
            "type": "scattergl"
           }
          ],
          "scattermapbox": [
           {
            "marker": {
             "colorbar": {
              "outlinewidth": 0,
              "ticks": ""
             }
            },
            "type": "scattermapbox"
           }
          ],
          "scatterpolar": [
           {
            "marker": {
             "colorbar": {
              "outlinewidth": 0,
              "ticks": ""
             }
            },
            "type": "scatterpolar"
           }
          ],
          "scatterpolargl": [
           {
            "marker": {
             "colorbar": {
              "outlinewidth": 0,
              "ticks": ""
             }
            },
            "type": "scatterpolargl"
           }
          ],
          "scatterternary": [
           {
            "marker": {
             "colorbar": {
              "outlinewidth": 0,
              "ticks": ""
             }
            },
            "type": "scatterternary"
           }
          ],
          "surface": [
           {
            "colorbar": {
             "outlinewidth": 0,
             "ticks": ""
            },
            "colorscale": [
             [
              0,
              "#0d0887"
             ],
             [
              0.1111111111111111,
              "#46039f"
             ],
             [
              0.2222222222222222,
              "#7201a8"
             ],
             [
              0.3333333333333333,
              "#9c179e"
             ],
             [
              0.4444444444444444,
              "#bd3786"
             ],
             [
              0.5555555555555556,
              "#d8576b"
             ],
             [
              0.6666666666666666,
              "#ed7953"
             ],
             [
              0.7777777777777778,
              "#fb9f3a"
             ],
             [
              0.8888888888888888,
              "#fdca26"
             ],
             [
              1,
              "#f0f921"
             ]
            ],
            "type": "surface"
           }
          ],
          "table": [
           {
            "cells": {
             "fill": {
              "color": "#EBF0F8"
             },
             "line": {
              "color": "white"
             }
            },
            "header": {
             "fill": {
              "color": "#C8D4E3"
             },
             "line": {
              "color": "white"
             }
            },
            "type": "table"
           }
          ]
         },
         "layout": {
          "annotationdefaults": {
           "arrowcolor": "#2a3f5f",
           "arrowhead": 0,
           "arrowwidth": 1
          },
          "autotypenumbers": "strict",
          "coloraxis": {
           "colorbar": {
            "outlinewidth": 0,
            "ticks": ""
           }
          },
          "colorscale": {
           "diverging": [
            [
             0,
             "#8e0152"
            ],
            [
             0.1,
             "#c51b7d"
            ],
            [
             0.2,
             "#de77ae"
            ],
            [
             0.3,
             "#f1b6da"
            ],
            [
             0.4,
             "#fde0ef"
            ],
            [
             0.5,
             "#f7f7f7"
            ],
            [
             0.6,
             "#e6f5d0"
            ],
            [
             0.7,
             "#b8e186"
            ],
            [
             0.8,
             "#7fbc41"
            ],
            [
             0.9,
             "#4d9221"
            ],
            [
             1,
             "#276419"
            ]
           ],
           "sequential": [
            [
             0,
             "#0d0887"
            ],
            [
             0.1111111111111111,
             "#46039f"
            ],
            [
             0.2222222222222222,
             "#7201a8"
            ],
            [
             0.3333333333333333,
             "#9c179e"
            ],
            [
             0.4444444444444444,
             "#bd3786"
            ],
            [
             0.5555555555555556,
             "#d8576b"
            ],
            [
             0.6666666666666666,
             "#ed7953"
            ],
            [
             0.7777777777777778,
             "#fb9f3a"
            ],
            [
             0.8888888888888888,
             "#fdca26"
            ],
            [
             1,
             "#f0f921"
            ]
           ],
           "sequentialminus": [
            [
             0,
             "#0d0887"
            ],
            [
             0.1111111111111111,
             "#46039f"
            ],
            [
             0.2222222222222222,
             "#7201a8"
            ],
            [
             0.3333333333333333,
             "#9c179e"
            ],
            [
             0.4444444444444444,
             "#bd3786"
            ],
            [
             0.5555555555555556,
             "#d8576b"
            ],
            [
             0.6666666666666666,
             "#ed7953"
            ],
            [
             0.7777777777777778,
             "#fb9f3a"
            ],
            [
             0.8888888888888888,
             "#fdca26"
            ],
            [
             1,
             "#f0f921"
            ]
           ]
          },
          "colorway": [
           "#636efa",
           "#EF553B",
           "#00cc96",
           "#ab63fa",
           "#FFA15A",
           "#19d3f3",
           "#FF6692",
           "#B6E880",
           "#FF97FF",
           "#FECB52"
          ],
          "font": {
           "color": "#2a3f5f"
          },
          "geo": {
           "bgcolor": "white",
           "lakecolor": "white",
           "landcolor": "#E5ECF6",
           "showlakes": true,
           "showland": true,
           "subunitcolor": "white"
          },
          "hoverlabel": {
           "align": "left"
          },
          "hovermode": "closest",
          "mapbox": {
           "style": "light"
          },
          "paper_bgcolor": "white",
          "plot_bgcolor": "#E5ECF6",
          "polar": {
           "angularaxis": {
            "gridcolor": "white",
            "linecolor": "white",
            "ticks": ""
           },
           "bgcolor": "#E5ECF6",
           "radialaxis": {
            "gridcolor": "white",
            "linecolor": "white",
            "ticks": ""
           }
          },
          "scene": {
           "xaxis": {
            "backgroundcolor": "#E5ECF6",
            "gridcolor": "white",
            "gridwidth": 2,
            "linecolor": "white",
            "showbackground": true,
            "ticks": "",
            "zerolinecolor": "white"
           },
           "yaxis": {
            "backgroundcolor": "#E5ECF6",
            "gridcolor": "white",
            "gridwidth": 2,
            "linecolor": "white",
            "showbackground": true,
            "ticks": "",
            "zerolinecolor": "white"
           },
           "zaxis": {
            "backgroundcolor": "#E5ECF6",
            "gridcolor": "white",
            "gridwidth": 2,
            "linecolor": "white",
            "showbackground": true,
            "ticks": "",
            "zerolinecolor": "white"
           }
          },
          "shapedefaults": {
           "line": {
            "color": "#2a3f5f"
           }
          },
          "ternary": {
           "aaxis": {
            "gridcolor": "white",
            "linecolor": "white",
            "ticks": ""
           },
           "baxis": {
            "gridcolor": "white",
            "linecolor": "white",
            "ticks": ""
           },
           "bgcolor": "#E5ECF6",
           "caxis": {
            "gridcolor": "white",
            "linecolor": "white",
            "ticks": ""
           }
          },
          "title": {
           "x": 0.05
          },
          "xaxis": {
           "automargin": true,
           "gridcolor": "white",
           "linecolor": "white",
           "ticks": "",
           "title": {
            "standoff": 15
           },
           "zerolinecolor": "white",
           "zerolinewidth": 2
          },
          "yaxis": {
           "automargin": true,
           "gridcolor": "white",
           "linecolor": "white",
           "ticks": "",
           "title": {
            "standoff": 15
           },
           "zerolinecolor": "white",
           "zerolinewidth": 2
          }
         }
        },
        "title": {
         "text": "Sales Pipeline Funnel (Weighted Deal Amount) (Created until 2023-12-31)",
         "x": 0.5,
         "xanchor": "center",
         "y": 0.95,
         "yanchor": "top"
        },
        "width": 800
       }
      }
     },
     "metadata": {},
     "output_type": "display_data"
    },
    {
     "name": "stdout",
     "output_type": "stream",
     "text": [
      "\n",
      "Sales Funnel Summary (Weighted Deal Amount) (Created until 2023-12-31):\n"
     ]
    },
    {
     "data": {
      "text/html": [
       "<div>\n",
       "<style scoped>\n",
       "    .dataframe tbody tr th:only-of-type {\n",
       "        vertical-align: middle;\n",
       "    }\n",
       "\n",
       "    .dataframe tbody tr th {\n",
       "        vertical-align: top;\n",
       "    }\n",
       "\n",
       "    .dataframe thead th {\n",
       "        text-align: right;\n",
       "    }\n",
       "</style>\n",
       "<table border=\"1\" class=\"dataframe\">\n",
       "  <thead>\n",
       "    <tr style=\"text-align: right;\">\n",
       "      <th></th>\n",
       "      <th>Stage</th>\n",
       "      <th>Deal Count</th>\n",
       "      <th>Weighted Deal Amount (SEK)</th>\n",
       "    </tr>\n",
       "  </thead>\n",
       "  <tbody>\n",
       "    <tr>\n",
       "      <th>0</th>\n",
       "      <td>Stage 4: Closed Won</td>\n",
       "      <td>57</td>\n",
       "      <td>37,729,400.00 SEK</td>\n",
       "    </tr>\n",
       "    <tr>\n",
       "      <th>1</th>\n",
       "      <td>Stage 5: Closed Lost</td>\n",
       "      <td>148</td>\n",
       "      <td>0.00 SEK</td>\n",
       "    </tr>\n",
       "  </tbody>\n",
       "</table>\n",
       "</div>"
      ],
      "text/plain": [
       "                  Stage  Deal Count Weighted Deal Amount (SEK)\n",
       "0   Stage 4: Closed Won          57          37,729,400.00 SEK\n",
       "1  Stage 5: Closed Lost         148                   0.00 SEK"
      ]
     },
     "metadata": {},
     "output_type": "display_data"
    },
    {
     "data": {
      "application/vnd.plotly.v1+json": {
       "config": {
        "plotlyServerURL": "https://plot.ly"
       },
       "data": [
        {
         "hoverinfo": "text",
         "hovertext": [
          "<b>Stage 0: Lead</b><br>Weighted Deal Amount: 90,050.00 SEK<br>Number of Deals: 4",
          "<b>Stage 1: Qualification</b><br>Weighted Deal Amount: 438,000.00 SEK<br>Number of Deals: 5",
          "<b>Stage 3: Proposal</b><br>Weighted Deal Amount: 420,000.00 SEK<br>Number of Deals: 2",
          "<b>Stage 4: Closed Won</b><br>Weighted Deal Amount: 54,715,400.00 SEK<br>Number of Deals: 93",
          "<b>Stage 5: Closed Lost</b><br>Weighted Deal Amount: 0.00 SEK<br>Number of Deals: 218"
         ],
         "marker": {
          "color": [
           "#1f77b4",
           "#7fc3e5",
           "#4292c6",
           "#2171b5",
           "#08519c"
          ],
          "line": {
           "color": [
            "white",
            "white",
            "white",
            "white",
            "white"
           ],
           "width": [
            1,
            1,
            1,
            1,
            1
           ]
          }
         },
         "name": "Sales Funnel",
         "opacity": 0.7,
         "textinfo": "value+percent initial",
         "textposition": "inside",
         "type": "funnel",
         "x": [
          90050,
          438000,
          420000,
          54715400,
          0
         ],
         "y": [
          "Stage 0: Lead",
          "Stage 1: Qualification",
          "Stage 3: Proposal",
          "Stage 4: Closed Won",
          "Stage 5: Closed Lost"
         ]
        }
       ],
       "layout": {
        "height": 500,
        "template": {
         "data": {
          "bar": [
           {
            "error_x": {
             "color": "#2a3f5f"
            },
            "error_y": {
             "color": "#2a3f5f"
            },
            "marker": {
             "line": {
              "color": "#E5ECF6",
              "width": 0.5
             },
             "pattern": {
              "fillmode": "overlay",
              "size": 10,
              "solidity": 0.2
             }
            },
            "type": "bar"
           }
          ],
          "barpolar": [
           {
            "marker": {
             "line": {
              "color": "#E5ECF6",
              "width": 0.5
             },
             "pattern": {
              "fillmode": "overlay",
              "size": 10,
              "solidity": 0.2
             }
            },
            "type": "barpolar"
           }
          ],
          "carpet": [
           {
            "aaxis": {
             "endlinecolor": "#2a3f5f",
             "gridcolor": "white",
             "linecolor": "white",
             "minorgridcolor": "white",
             "startlinecolor": "#2a3f5f"
            },
            "baxis": {
             "endlinecolor": "#2a3f5f",
             "gridcolor": "white",
             "linecolor": "white",
             "minorgridcolor": "white",
             "startlinecolor": "#2a3f5f"
            },
            "type": "carpet"
           }
          ],
          "choropleth": [
           {
            "colorbar": {
             "outlinewidth": 0,
             "ticks": ""
            },
            "type": "choropleth"
           }
          ],
          "contour": [
           {
            "colorbar": {
             "outlinewidth": 0,
             "ticks": ""
            },
            "colorscale": [
             [
              0,
              "#0d0887"
             ],
             [
              0.1111111111111111,
              "#46039f"
             ],
             [
              0.2222222222222222,
              "#7201a8"
             ],
             [
              0.3333333333333333,
              "#9c179e"
             ],
             [
              0.4444444444444444,
              "#bd3786"
             ],
             [
              0.5555555555555556,
              "#d8576b"
             ],
             [
              0.6666666666666666,
              "#ed7953"
             ],
             [
              0.7777777777777778,
              "#fb9f3a"
             ],
             [
              0.8888888888888888,
              "#fdca26"
             ],
             [
              1,
              "#f0f921"
             ]
            ],
            "type": "contour"
           }
          ],
          "contourcarpet": [
           {
            "colorbar": {
             "outlinewidth": 0,
             "ticks": ""
            },
            "type": "contourcarpet"
           }
          ],
          "heatmap": [
           {
            "colorbar": {
             "outlinewidth": 0,
             "ticks": ""
            },
            "colorscale": [
             [
              0,
              "#0d0887"
             ],
             [
              0.1111111111111111,
              "#46039f"
             ],
             [
              0.2222222222222222,
              "#7201a8"
             ],
             [
              0.3333333333333333,
              "#9c179e"
             ],
             [
              0.4444444444444444,
              "#bd3786"
             ],
             [
              0.5555555555555556,
              "#d8576b"
             ],
             [
              0.6666666666666666,
              "#ed7953"
             ],
             [
              0.7777777777777778,
              "#fb9f3a"
             ],
             [
              0.8888888888888888,
              "#fdca26"
             ],
             [
              1,
              "#f0f921"
             ]
            ],
            "type": "heatmap"
           }
          ],
          "heatmapgl": [
           {
            "colorbar": {
             "outlinewidth": 0,
             "ticks": ""
            },
            "colorscale": [
             [
              0,
              "#0d0887"
             ],
             [
              0.1111111111111111,
              "#46039f"
             ],
             [
              0.2222222222222222,
              "#7201a8"
             ],
             [
              0.3333333333333333,
              "#9c179e"
             ],
             [
              0.4444444444444444,
              "#bd3786"
             ],
             [
              0.5555555555555556,
              "#d8576b"
             ],
             [
              0.6666666666666666,
              "#ed7953"
             ],
             [
              0.7777777777777778,
              "#fb9f3a"
             ],
             [
              0.8888888888888888,
              "#fdca26"
             ],
             [
              1,
              "#f0f921"
             ]
            ],
            "type": "heatmapgl"
           }
          ],
          "histogram": [
           {
            "marker": {
             "pattern": {
              "fillmode": "overlay",
              "size": 10,
              "solidity": 0.2
             }
            },
            "type": "histogram"
           }
          ],
          "histogram2d": [
           {
            "colorbar": {
             "outlinewidth": 0,
             "ticks": ""
            },
            "colorscale": [
             [
              0,
              "#0d0887"
             ],
             [
              0.1111111111111111,
              "#46039f"
             ],
             [
              0.2222222222222222,
              "#7201a8"
             ],
             [
              0.3333333333333333,
              "#9c179e"
             ],
             [
              0.4444444444444444,
              "#bd3786"
             ],
             [
              0.5555555555555556,
              "#d8576b"
             ],
             [
              0.6666666666666666,
              "#ed7953"
             ],
             [
              0.7777777777777778,
              "#fb9f3a"
             ],
             [
              0.8888888888888888,
              "#fdca26"
             ],
             [
              1,
              "#f0f921"
             ]
            ],
            "type": "histogram2d"
           }
          ],
          "histogram2dcontour": [
           {
            "colorbar": {
             "outlinewidth": 0,
             "ticks": ""
            },
            "colorscale": [
             [
              0,
              "#0d0887"
             ],
             [
              0.1111111111111111,
              "#46039f"
             ],
             [
              0.2222222222222222,
              "#7201a8"
             ],
             [
              0.3333333333333333,
              "#9c179e"
             ],
             [
              0.4444444444444444,
              "#bd3786"
             ],
             [
              0.5555555555555556,
              "#d8576b"
             ],
             [
              0.6666666666666666,
              "#ed7953"
             ],
             [
              0.7777777777777778,
              "#fb9f3a"
             ],
             [
              0.8888888888888888,
              "#fdca26"
             ],
             [
              1,
              "#f0f921"
             ]
            ],
            "type": "histogram2dcontour"
           }
          ],
          "mesh3d": [
           {
            "colorbar": {
             "outlinewidth": 0,
             "ticks": ""
            },
            "type": "mesh3d"
           }
          ],
          "parcoords": [
           {
            "line": {
             "colorbar": {
              "outlinewidth": 0,
              "ticks": ""
             }
            },
            "type": "parcoords"
           }
          ],
          "pie": [
           {
            "automargin": true,
            "type": "pie"
           }
          ],
          "scatter": [
           {
            "fillpattern": {
             "fillmode": "overlay",
             "size": 10,
             "solidity": 0.2
            },
            "type": "scatter"
           }
          ],
          "scatter3d": [
           {
            "line": {
             "colorbar": {
              "outlinewidth": 0,
              "ticks": ""
             }
            },
            "marker": {
             "colorbar": {
              "outlinewidth": 0,
              "ticks": ""
             }
            },
            "type": "scatter3d"
           }
          ],
          "scattercarpet": [
           {
            "marker": {
             "colorbar": {
              "outlinewidth": 0,
              "ticks": ""
             }
            },
            "type": "scattercarpet"
           }
          ],
          "scattergeo": [
           {
            "marker": {
             "colorbar": {
              "outlinewidth": 0,
              "ticks": ""
             }
            },
            "type": "scattergeo"
           }
          ],
          "scattergl": [
           {
            "marker": {
             "colorbar": {
              "outlinewidth": 0,
              "ticks": ""
             }
            },
            "type": "scattergl"
           }
          ],
          "scattermapbox": [
           {
            "marker": {
             "colorbar": {
              "outlinewidth": 0,
              "ticks": ""
             }
            },
            "type": "scattermapbox"
           }
          ],
          "scatterpolar": [
           {
            "marker": {
             "colorbar": {
              "outlinewidth": 0,
              "ticks": ""
             }
            },
            "type": "scatterpolar"
           }
          ],
          "scatterpolargl": [
           {
            "marker": {
             "colorbar": {
              "outlinewidth": 0,
              "ticks": ""
             }
            },
            "type": "scatterpolargl"
           }
          ],
          "scatterternary": [
           {
            "marker": {
             "colorbar": {
              "outlinewidth": 0,
              "ticks": ""
             }
            },
            "type": "scatterternary"
           }
          ],
          "surface": [
           {
            "colorbar": {
             "outlinewidth": 0,
             "ticks": ""
            },
            "colorscale": [
             [
              0,
              "#0d0887"
             ],
             [
              0.1111111111111111,
              "#46039f"
             ],
             [
              0.2222222222222222,
              "#7201a8"
             ],
             [
              0.3333333333333333,
              "#9c179e"
             ],
             [
              0.4444444444444444,
              "#bd3786"
             ],
             [
              0.5555555555555556,
              "#d8576b"
             ],
             [
              0.6666666666666666,
              "#ed7953"
             ],
             [
              0.7777777777777778,
              "#fb9f3a"
             ],
             [
              0.8888888888888888,
              "#fdca26"
             ],
             [
              1,
              "#f0f921"
             ]
            ],
            "type": "surface"
           }
          ],
          "table": [
           {
            "cells": {
             "fill": {
              "color": "#EBF0F8"
             },
             "line": {
              "color": "white"
             }
            },
            "header": {
             "fill": {
              "color": "#C8D4E3"
             },
             "line": {
              "color": "white"
             }
            },
            "type": "table"
           }
          ]
         },
         "layout": {
          "annotationdefaults": {
           "arrowcolor": "#2a3f5f",
           "arrowhead": 0,
           "arrowwidth": 1
          },
          "autotypenumbers": "strict",
          "coloraxis": {
           "colorbar": {
            "outlinewidth": 0,
            "ticks": ""
           }
          },
          "colorscale": {
           "diverging": [
            [
             0,
             "#8e0152"
            ],
            [
             0.1,
             "#c51b7d"
            ],
            [
             0.2,
             "#de77ae"
            ],
            [
             0.3,
             "#f1b6da"
            ],
            [
             0.4,
             "#fde0ef"
            ],
            [
             0.5,
             "#f7f7f7"
            ],
            [
             0.6,
             "#e6f5d0"
            ],
            [
             0.7,
             "#b8e186"
            ],
            [
             0.8,
             "#7fbc41"
            ],
            [
             0.9,
             "#4d9221"
            ],
            [
             1,
             "#276419"
            ]
           ],
           "sequential": [
            [
             0,
             "#0d0887"
            ],
            [
             0.1111111111111111,
             "#46039f"
            ],
            [
             0.2222222222222222,
             "#7201a8"
            ],
            [
             0.3333333333333333,
             "#9c179e"
            ],
            [
             0.4444444444444444,
             "#bd3786"
            ],
            [
             0.5555555555555556,
             "#d8576b"
            ],
            [
             0.6666666666666666,
             "#ed7953"
            ],
            [
             0.7777777777777778,
             "#fb9f3a"
            ],
            [
             0.8888888888888888,
             "#fdca26"
            ],
            [
             1,
             "#f0f921"
            ]
           ],
           "sequentialminus": [
            [
             0,
             "#0d0887"
            ],
            [
             0.1111111111111111,
             "#46039f"
            ],
            [
             0.2222222222222222,
             "#7201a8"
            ],
            [
             0.3333333333333333,
             "#9c179e"
            ],
            [
             0.4444444444444444,
             "#bd3786"
            ],
            [
             0.5555555555555556,
             "#d8576b"
            ],
            [
             0.6666666666666666,
             "#ed7953"
            ],
            [
             0.7777777777777778,
             "#fb9f3a"
            ],
            [
             0.8888888888888888,
             "#fdca26"
            ],
            [
             1,
             "#f0f921"
            ]
           ]
          },
          "colorway": [
           "#636efa",
           "#EF553B",
           "#00cc96",
           "#ab63fa",
           "#FFA15A",
           "#19d3f3",
           "#FF6692",
           "#B6E880",
           "#FF97FF",
           "#FECB52"
          ],
          "font": {
           "color": "#2a3f5f"
          },
          "geo": {
           "bgcolor": "white",
           "lakecolor": "white",
           "landcolor": "#E5ECF6",
           "showlakes": true,
           "showland": true,
           "subunitcolor": "white"
          },
          "hoverlabel": {
           "align": "left"
          },
          "hovermode": "closest",
          "mapbox": {
           "style": "light"
          },
          "paper_bgcolor": "white",
          "plot_bgcolor": "#E5ECF6",
          "polar": {
           "angularaxis": {
            "gridcolor": "white",
            "linecolor": "white",
            "ticks": ""
           },
           "bgcolor": "#E5ECF6",
           "radialaxis": {
            "gridcolor": "white",
            "linecolor": "white",
            "ticks": ""
           }
          },
          "scene": {
           "xaxis": {
            "backgroundcolor": "#E5ECF6",
            "gridcolor": "white",
            "gridwidth": 2,
            "linecolor": "white",
            "showbackground": true,
            "ticks": "",
            "zerolinecolor": "white"
           },
           "yaxis": {
            "backgroundcolor": "#E5ECF6",
            "gridcolor": "white",
            "gridwidth": 2,
            "linecolor": "white",
            "showbackground": true,
            "ticks": "",
            "zerolinecolor": "white"
           },
           "zaxis": {
            "backgroundcolor": "#E5ECF6",
            "gridcolor": "white",
            "gridwidth": 2,
            "linecolor": "white",
            "showbackground": true,
            "ticks": "",
            "zerolinecolor": "white"
           }
          },
          "shapedefaults": {
           "line": {
            "color": "#2a3f5f"
           }
          },
          "ternary": {
           "aaxis": {
            "gridcolor": "white",
            "linecolor": "white",
            "ticks": ""
           },
           "baxis": {
            "gridcolor": "white",
            "linecolor": "white",
            "ticks": ""
           },
           "bgcolor": "#E5ECF6",
           "caxis": {
            "gridcolor": "white",
            "linecolor": "white",
            "ticks": ""
           }
          },
          "title": {
           "x": 0.05
          },
          "xaxis": {
           "automargin": true,
           "gridcolor": "white",
           "linecolor": "white",
           "ticks": "",
           "title": {
            "standoff": 15
           },
           "zerolinecolor": "white",
           "zerolinewidth": 2
          },
          "yaxis": {
           "automargin": true,
           "gridcolor": "white",
           "linecolor": "white",
           "ticks": "",
           "title": {
            "standoff": 15
           },
           "zerolinecolor": "white",
           "zerolinewidth": 2
          }
         }
        },
        "title": {
         "text": "Sales Pipeline Funnel (Weighted Deal Amount)",
         "x": 0.5,
         "xanchor": "center",
         "y": 0.95,
         "yanchor": "top"
        },
        "width": 800
       }
      }
     },
     "metadata": {},
     "output_type": "display_data"
    },
    {
     "name": "stdout",
     "output_type": "stream",
     "text": [
      "\n",
      "Sales Funnel Summary (Weighted Deal Amount):\n"
     ]
    },
    {
     "data": {
      "text/html": [
       "<div>\n",
       "<style scoped>\n",
       "    .dataframe tbody tr th:only-of-type {\n",
       "        vertical-align: middle;\n",
       "    }\n",
       "\n",
       "    .dataframe tbody tr th {\n",
       "        vertical-align: top;\n",
       "    }\n",
       "\n",
       "    .dataframe thead th {\n",
       "        text-align: right;\n",
       "    }\n",
       "</style>\n",
       "<table border=\"1\" class=\"dataframe\">\n",
       "  <thead>\n",
       "    <tr style=\"text-align: right;\">\n",
       "      <th></th>\n",
       "      <th>Stage</th>\n",
       "      <th>Deal Count</th>\n",
       "      <th>Weighted Deal Amount (SEK)</th>\n",
       "    </tr>\n",
       "  </thead>\n",
       "  <tbody>\n",
       "    <tr>\n",
       "      <th>0</th>\n",
       "      <td>Stage 0: Lead</td>\n",
       "      <td>4</td>\n",
       "      <td>90,050.00 SEK</td>\n",
       "    </tr>\n",
       "    <tr>\n",
       "      <th>1</th>\n",
       "      <td>Stage 1: Qualification</td>\n",
       "      <td>5</td>\n",
       "      <td>438,000.00 SEK</td>\n",
       "    </tr>\n",
       "    <tr>\n",
       "      <th>2</th>\n",
       "      <td>Stage 3: Proposal</td>\n",
       "      <td>2</td>\n",
       "      <td>420,000.00 SEK</td>\n",
       "    </tr>\n",
       "    <tr>\n",
       "      <th>3</th>\n",
       "      <td>Stage 4: Closed Won</td>\n",
       "      <td>93</td>\n",
       "      <td>54,715,400.00 SEK</td>\n",
       "    </tr>\n",
       "    <tr>\n",
       "      <th>4</th>\n",
       "      <td>Stage 5: Closed Lost</td>\n",
       "      <td>218</td>\n",
       "      <td>0.00 SEK</td>\n",
       "    </tr>\n",
       "  </tbody>\n",
       "</table>\n",
       "</div>"
      ],
      "text/plain": [
       "                    Stage  Deal Count Weighted Deal Amount (SEK)\n",
       "0           Stage 0: Lead           4              90,050.00 SEK\n",
       "1  Stage 1: Qualification           5             438,000.00 SEK\n",
       "2       Stage 3: Proposal           2             420,000.00 SEK\n",
       "3     Stage 4: Closed Won          93          54,715,400.00 SEK\n",
       "4    Stage 5: Closed Lost         218                   0.00 SEK"
      ]
     },
     "metadata": {},
     "output_type": "display_data"
    }
   ],
   "source": [
    "sales_funnel_viz(sales_pipeline, weighted_amount=True, \n",
    "                   time_filter_start='2023-01-01', \n",
    "                   time_filter_stop='2023-06-30')\n",
    "\n",
    "sales_funnel_viz(sales_pipeline, weighted_amount=False,\n",
    "                   time_filter_start='2023-01-01')\n",
    "\n",
    "sales_funnel_viz(sales_pipeline, weighted_amount=True,\n",
    "                   time_filter_stop='2023-12-31')\n",
    "\n",
    "sales_funnel_viz(sales_pipeline, weighted_amount=True)"
   ]
  }
 ],
 "metadata": {
  "kernelspec": {
   "display_name": "base",
   "language": "python",
   "name": "python3"
  },
  "language_info": {
   "codemirror_mode": {
    "name": "ipython",
    "version": 3
   },
   "file_extension": ".py",
   "mimetype": "text/x-python",
   "name": "python",
   "nbconvert_exporter": "python",
   "pygments_lexer": "ipython3",
   "version": "3.12.7"
  }
 },
 "nbformat": 4,
 "nbformat_minor": 5
}
